{
 "cells": [
  {
   "cell_type": "markdown",
   "id": "5bf3d2bb",
   "metadata": {},
   "source": [
    "## Veri Setinin Hikayesi"
   ]
  },
  {
   "cell_type": "markdown",
   "id": "dbe63891",
   "metadata": {},
   "source": [
    "#### Problem:\n",
    "* İşletmenin hayatta kalması ve karlılığı için nasıl bir satış ve üretim politkası izleyeceği konusunda kararsız kalması. \n",
    "\n",
    "#### Amaç ve Kapsam:\n",
    "* E-Ticaret platformu olan Amazonun hindistandaki satış bilgilerinin olduğu bir veri seti var elimizde. Bu veriden çıkarabildiğimiz kadar anlamlı bilgi çıkaracağız, görselleştireceğiz ve sınıflandırma tahminlerinde bulunacağız. Satış verilerinde uygun her bir özelliği kullanarak ürün kategorisinin sınıflandırma tahminlemesini yapmak istiyoruz. Bu sayede hangi beden,şehir,stil,fiyat vb özellikler ürün kategorisini nasıl etkiliyor görerek firmanın karlılık için alacağı aksiyonlara kararsal olarak ışık tutmak istiyoruz. Tüm bunları sağlıklı yapabilmemiz için veriyi tanımalı ve tanıdıktan sonra veri ön işleme yaparak tüm kirliliğinden kurtulmalıyız."
   ]
  },
  {
   "cell_type": "code",
   "execution_count": 1,
   "id": "053d56b4",
   "metadata": {},
   "outputs": [],
   "source": [
    "import pandas as pd\n",
    "import numpy as np\n",
    "import seaborn as sns\n",
    "import matplotlib.pyplot as plt "
   ]
  },
  {
   "cell_type": "markdown",
   "id": "61c3b180",
   "metadata": {},
   "source": [
    "## Veriyi Yükleme ve Ön İnceleme"
   ]
  },
  {
   "cell_type": "code",
   "execution_count": 2,
   "id": "1d1ebe11",
   "metadata": {},
   "outputs": [
    {
     "name": "stderr",
     "output_type": "stream",
     "text": [
      "C:\\Users\\Uveys\\AppData\\Local\\Temp\\ipykernel_6720\\2513928710.py:1: DtypeWarning: Columns (23) have mixed types. Specify dtype option on import or set low_memory=False.\n",
      "  dff=pd.read_csv(\"amazonSaleReport.csv\")\n"
     ]
    }
   ],
   "source": [
    "dff=pd.read_csv(\"amazonSaleReport.csv\")\n",
    "dff.head()\n",
    "df=dff.copy()"
   ]
  },
  {
   "cell_type": "code",
   "execution_count": 3,
   "id": "8385ce00",
   "metadata": {
    "scrolled": true
   },
   "outputs": [
    {
     "data": {
      "text/html": [
       "<div>\n",
       "<style scoped>\n",
       "    .dataframe tbody tr th:only-of-type {\n",
       "        vertical-align: middle;\n",
       "    }\n",
       "\n",
       "    .dataframe tbody tr th {\n",
       "        vertical-align: top;\n",
       "    }\n",
       "\n",
       "    .dataframe thead th {\n",
       "        text-align: right;\n",
       "    }\n",
       "</style>\n",
       "<table border=\"1\" class=\"dataframe\">\n",
       "  <thead>\n",
       "    <tr style=\"text-align: right;\">\n",
       "      <th></th>\n",
       "      <th>index</th>\n",
       "      <th>Order ID</th>\n",
       "      <th>Date</th>\n",
       "      <th>Status</th>\n",
       "      <th>Fulfilment</th>\n",
       "      <th>Sales Channel</th>\n",
       "      <th>ship-service-level</th>\n",
       "      <th>Style</th>\n",
       "      <th>SKU</th>\n",
       "      <th>Category</th>\n",
       "      <th>...</th>\n",
       "      <th>currency</th>\n",
       "      <th>Amount</th>\n",
       "      <th>ship-city</th>\n",
       "      <th>ship-state</th>\n",
       "      <th>ship-postal-code</th>\n",
       "      <th>ship-country</th>\n",
       "      <th>promotion-ids</th>\n",
       "      <th>B2B</th>\n",
       "      <th>fulfilled-by</th>\n",
       "      <th>Unnamed: 22</th>\n",
       "    </tr>\n",
       "  </thead>\n",
       "  <tbody>\n",
       "    <tr>\n",
       "      <th>0</th>\n",
       "      <td>0</td>\n",
       "      <td>405-8078784-5731545</td>\n",
       "      <td>04-30-22</td>\n",
       "      <td>Cancelled</td>\n",
       "      <td>Merchant</td>\n",
       "      <td>Amazon.in</td>\n",
       "      <td>Standard</td>\n",
       "      <td>SET389</td>\n",
       "      <td>SET389-KR-NP-S</td>\n",
       "      <td>Set</td>\n",
       "      <td>...</td>\n",
       "      <td>INR</td>\n",
       "      <td>647.62</td>\n",
       "      <td>MUMBAI</td>\n",
       "      <td>MAHARASHTRA</td>\n",
       "      <td>400081.0</td>\n",
       "      <td>IN</td>\n",
       "      <td>NaN</td>\n",
       "      <td>False</td>\n",
       "      <td>Easy Ship</td>\n",
       "      <td>NaN</td>\n",
       "    </tr>\n",
       "    <tr>\n",
       "      <th>1</th>\n",
       "      <td>1</td>\n",
       "      <td>171-9198151-1101146</td>\n",
       "      <td>04-30-22</td>\n",
       "      <td>Shipped - Delivered to Buyer</td>\n",
       "      <td>Merchant</td>\n",
       "      <td>Amazon.in</td>\n",
       "      <td>Standard</td>\n",
       "      <td>JNE3781</td>\n",
       "      <td>JNE3781-KR-XXXL</td>\n",
       "      <td>kurta</td>\n",
       "      <td>...</td>\n",
       "      <td>INR</td>\n",
       "      <td>406.00</td>\n",
       "      <td>BENGALURU</td>\n",
       "      <td>KARNATAKA</td>\n",
       "      <td>560085.0</td>\n",
       "      <td>IN</td>\n",
       "      <td>Amazon PLCC Free-Financing Universal Merchant ...</td>\n",
       "      <td>False</td>\n",
       "      <td>Easy Ship</td>\n",
       "      <td>NaN</td>\n",
       "    </tr>\n",
       "    <tr>\n",
       "      <th>2</th>\n",
       "      <td>2</td>\n",
       "      <td>404-0687676-7273146</td>\n",
       "      <td>04-30-22</td>\n",
       "      <td>Shipped</td>\n",
       "      <td>Amazon</td>\n",
       "      <td>Amazon.in</td>\n",
       "      <td>Expedited</td>\n",
       "      <td>JNE3371</td>\n",
       "      <td>JNE3371-KR-XL</td>\n",
       "      <td>kurta</td>\n",
       "      <td>...</td>\n",
       "      <td>INR</td>\n",
       "      <td>329.00</td>\n",
       "      <td>NAVI MUMBAI</td>\n",
       "      <td>MAHARASHTRA</td>\n",
       "      <td>410210.0</td>\n",
       "      <td>IN</td>\n",
       "      <td>IN Core Free Shipping 2015/04/08 23-48-5-108</td>\n",
       "      <td>True</td>\n",
       "      <td>NaN</td>\n",
       "      <td>NaN</td>\n",
       "    </tr>\n",
       "    <tr>\n",
       "      <th>3</th>\n",
       "      <td>3</td>\n",
       "      <td>403-9615377-8133951</td>\n",
       "      <td>04-30-22</td>\n",
       "      <td>Cancelled</td>\n",
       "      <td>Merchant</td>\n",
       "      <td>Amazon.in</td>\n",
       "      <td>Standard</td>\n",
       "      <td>J0341</td>\n",
       "      <td>J0341-DR-L</td>\n",
       "      <td>Western Dress</td>\n",
       "      <td>...</td>\n",
       "      <td>INR</td>\n",
       "      <td>753.33</td>\n",
       "      <td>PUDUCHERRY</td>\n",
       "      <td>PUDUCHERRY</td>\n",
       "      <td>605008.0</td>\n",
       "      <td>IN</td>\n",
       "      <td>NaN</td>\n",
       "      <td>False</td>\n",
       "      <td>Easy Ship</td>\n",
       "      <td>NaN</td>\n",
       "    </tr>\n",
       "    <tr>\n",
       "      <th>4</th>\n",
       "      <td>4</td>\n",
       "      <td>407-1069790-7240320</td>\n",
       "      <td>04-30-22</td>\n",
       "      <td>Shipped</td>\n",
       "      <td>Amazon</td>\n",
       "      <td>Amazon.in</td>\n",
       "      <td>Expedited</td>\n",
       "      <td>JNE3671</td>\n",
       "      <td>JNE3671-TU-XXXL</td>\n",
       "      <td>Top</td>\n",
       "      <td>...</td>\n",
       "      <td>INR</td>\n",
       "      <td>574.00</td>\n",
       "      <td>CHENNAI</td>\n",
       "      <td>TAMIL NADU</td>\n",
       "      <td>600073.0</td>\n",
       "      <td>IN</td>\n",
       "      <td>NaN</td>\n",
       "      <td>False</td>\n",
       "      <td>NaN</td>\n",
       "      <td>NaN</td>\n",
       "    </tr>\n",
       "  </tbody>\n",
       "</table>\n",
       "<p>5 rows × 24 columns</p>\n",
       "</div>"
      ],
      "text/plain": [
       "   index             Order ID      Date                        Status  \\\n",
       "0      0  405-8078784-5731545  04-30-22                     Cancelled   \n",
       "1      1  171-9198151-1101146  04-30-22  Shipped - Delivered to Buyer   \n",
       "2      2  404-0687676-7273146  04-30-22                       Shipped   \n",
       "3      3  403-9615377-8133951  04-30-22                     Cancelled   \n",
       "4      4  407-1069790-7240320  04-30-22                       Shipped   \n",
       "\n",
       "  Fulfilment Sales Channel  ship-service-level    Style              SKU  \\\n",
       "0   Merchant      Amazon.in           Standard   SET389   SET389-KR-NP-S   \n",
       "1   Merchant      Amazon.in           Standard  JNE3781  JNE3781-KR-XXXL   \n",
       "2     Amazon      Amazon.in          Expedited  JNE3371    JNE3371-KR-XL   \n",
       "3   Merchant      Amazon.in           Standard    J0341       J0341-DR-L   \n",
       "4     Amazon      Amazon.in          Expedited  JNE3671  JNE3671-TU-XXXL   \n",
       "\n",
       "        Category  ... currency  Amount    ship-city   ship-state  \\\n",
       "0            Set  ...      INR  647.62       MUMBAI  MAHARASHTRA   \n",
       "1          kurta  ...      INR  406.00    BENGALURU    KARNATAKA   \n",
       "2          kurta  ...      INR  329.00  NAVI MUMBAI  MAHARASHTRA   \n",
       "3  Western Dress  ...      INR  753.33   PUDUCHERRY   PUDUCHERRY   \n",
       "4            Top  ...      INR  574.00      CHENNAI   TAMIL NADU   \n",
       "\n",
       "  ship-postal-code  ship-country  \\\n",
       "0         400081.0            IN   \n",
       "1         560085.0            IN   \n",
       "2         410210.0            IN   \n",
       "3         605008.0            IN   \n",
       "4         600073.0            IN   \n",
       "\n",
       "                                       promotion-ids    B2B  fulfilled-by  \\\n",
       "0                                                NaN  False     Easy Ship   \n",
       "1  Amazon PLCC Free-Financing Universal Merchant ...  False     Easy Ship   \n",
       "2       IN Core Free Shipping 2015/04/08 23-48-5-108   True           NaN   \n",
       "3                                                NaN  False     Easy Ship   \n",
       "4                                                NaN  False           NaN   \n",
       "\n",
       "  Unnamed: 22  \n",
       "0         NaN  \n",
       "1         NaN  \n",
       "2         NaN  \n",
       "3         NaN  \n",
       "4         NaN  \n",
       "\n",
       "[5 rows x 24 columns]"
      ]
     },
     "execution_count": 3,
     "metadata": {},
     "output_type": "execute_result"
    }
   ],
   "source": [
    "df.head()"
   ]
  },
  {
   "cell_type": "code",
   "execution_count": 11,
   "id": "6ec51084",
   "metadata": {},
   "outputs": [
    {
     "name": "stdout",
     "output_type": "stream",
     "text": [
      "<class 'pandas.core.frame.DataFrame'>\n",
      "RangeIndex: 128975 entries, 0 to 128974\n",
      "Data columns (total 24 columns):\n",
      " #   Column              Non-Null Count   Dtype  \n",
      "---  ------              --------------   -----  \n",
      " 0   index               128975 non-null  int64  \n",
      " 1   Order ID            128975 non-null  object \n",
      " 2   Date                128975 non-null  object \n",
      " 3   Status              128975 non-null  object \n",
      " 4   Fulfilment          128975 non-null  object \n",
      " 5   Sales Channel       128975 non-null  object \n",
      " 6   ship-service-level  128975 non-null  object \n",
      " 7   Style               128975 non-null  object \n",
      " 8   SKU                 128975 non-null  object \n",
      " 9   Category            128975 non-null  object \n",
      " 10  Size                128975 non-null  object \n",
      " 11  ASIN                128975 non-null  object \n",
      " 12  Courier Status      122103 non-null  object \n",
      " 13  Qty                 128975 non-null  int64  \n",
      " 14  currency            121180 non-null  object \n",
      " 15  Amount              121180 non-null  float64\n",
      " 16  ship-city           128942 non-null  object \n",
      " 17  ship-state          128942 non-null  object \n",
      " 18  ship-postal-code    128942 non-null  float64\n",
      " 19  ship-country        128942 non-null  object \n",
      " 20  promotion-ids       79822 non-null   object \n",
      " 21  B2B                 128975 non-null  bool   \n",
      " 22  fulfilled-by        39277 non-null   object \n",
      " 23  Unnamed: 22         79925 non-null   object \n",
      "dtypes: bool(1), float64(2), int64(2), object(19)\n",
      "memory usage: 22.8+ MB\n"
     ]
    }
   ],
   "source": [
    "df.info()"
   ]
  },
  {
   "cell_type": "code",
   "execution_count": 8,
   "id": "a79c6b90",
   "metadata": {},
   "outputs": [
    {
     "data": {
      "text/plain": [
       "index                     0\n",
       "Order ID                  0\n",
       "Date                      0\n",
       "Status                    0\n",
       "Fulfilment                0\n",
       "Sales Channel             0\n",
       "ship-service-level        0\n",
       "Style                     0\n",
       "SKU                       0\n",
       "Category                  0\n",
       "Size                      0\n",
       "ASIN                      0\n",
       "Courier Status         6872\n",
       "Qty                       0\n",
       "currency               7795\n",
       "Amount                 7795\n",
       "ship-city                33\n",
       "ship-state               33\n",
       "ship-postal-code         33\n",
       "ship-country             33\n",
       "promotion-ids         49153\n",
       "B2B                       0\n",
       "fulfilled-by          89698\n",
       "Unnamed: 22           49050\n",
       "dtype: int64"
      ]
     },
     "execution_count": 8,
     "metadata": {},
     "output_type": "execute_result"
    }
   ],
   "source": [
    "df.isnull().sum()"
   ]
  },
  {
   "cell_type": "markdown",
   "id": "546607a6",
   "metadata": {},
   "source": [
    "## Veri Ön İşleme\n"
   ]
  },
  {
   "cell_type": "markdown",
   "id": "8e9deb54",
   "metadata": {},
   "source": [
    "### Sütun İsimsiz Olduğu İçin Ne İşe Yaradığını Bilmiyoruz O Yüzden Komple Kaldırıyoruz"
   ]
  },
  {
   "cell_type": "code",
   "execution_count": 4,
   "id": "b2135b00",
   "metadata": {},
   "outputs": [
    {
     "name": "stdout",
     "output_type": "stream",
     "text": [
      "Index(['index', 'Order ID', 'Date', 'Status', 'Fulfilment', 'Sales Channel ',\n",
      "       'ship-service-level', 'Style', 'SKU', 'Category', 'Size', 'ASIN',\n",
      "       'Courier Status', 'Qty', 'currency', 'Amount', 'ship-city',\n",
      "       'ship-state', 'ship-postal-code', 'ship-country', 'promotion-ids',\n",
      "       'B2B', 'fulfilled-by'],\n",
      "      dtype='object')\n"
     ]
    }
   ],
   "source": [
    "df.drop(columns=['Unnamed: 22'], inplace=True)\n",
    "print(df.columns)"
   ]
  },
  {
   "cell_type": "markdown",
   "id": "2deb2e9f",
   "metadata": {},
   "source": [
    "### Sütun İsimlerini İsimlendirme Kurallarına Göre Standart Hale Getiriyoruz"
   ]
  },
  {
   "cell_type": "code",
   "execution_count": 5,
   "id": "c888f894",
   "metadata": {},
   "outputs": [
    {
     "name": "stdout",
     "output_type": "stream",
     "text": [
      "Index(['index', 'order id', 'date', 'status', 'fulfilment', 'sales channel',\n",
      "       'ship_service_level', 'style', 'sku', 'category', 'size', 'asin',\n",
      "       'courier status', 'qty', 'currency', 'amount', 'ship_city',\n",
      "       'ship_state', 'ship_postal_code', 'ship_country', 'promotion_ids',\n",
      "       'b2b', 'fulfilled_by'],\n",
      "      dtype='object')\n"
     ]
    }
   ],
   "source": [
    "df.columns = [col.strip().replace(\"-\", \"_\").lower() for col in df.columns]\n",
    "print(df.columns)"
   ]
  },
  {
   "cell_type": "markdown",
   "id": "92b364ed",
   "metadata": {},
   "source": [
    "### Değişkenleri Tanıyalım ve NaN Değerlerini Dolduralım"
   ]
  },
  {
   "cell_type": "code",
   "execution_count": 6,
   "id": "c3639ee0",
   "metadata": {},
   "outputs": [
    {
     "data": {
      "text/plain": [
       "Shipped      109487\n",
       "Unshipped      6681\n",
       "Cancelled      5935\n",
       "Name: courier status, dtype: int64"
      ]
     },
     "execution_count": 6,
     "metadata": {},
     "output_type": "execute_result"
    }
   ],
   "source": [
    "df[\"courier status\"].value_counts()"
   ]
  },
  {
   "cell_type": "code",
   "execution_count": 7,
   "id": "3e95a3a4",
   "metadata": {},
   "outputs": [
    {
     "data": {
      "image/png": "[encoded data removed]",
      "text/plain": [
       "<Figure size 640x480 with 1 Axes>"
      ]
     },
     "metadata": {},
     "output_type": "display_data"
    }
   ],
   "source": [
    "df[\"courier status\"].value_counts().plot.barh();"
   ]
  },
  {
   "cell_type": "code",
   "execution_count": 8,
   "id": "d5fc9e35",
   "metadata": {},
   "outputs": [
    {
     "data": {
      "text/plain": [
       "Shipped      109487\n",
       "NaN            6872\n",
       "Unshipped      6681\n",
       "Cancelled      5935\n",
       "Name: courier status, dtype: int64"
      ]
     },
     "execution_count": 8,
     "metadata": {},
     "output_type": "execute_result"
    }
   ],
   "source": [
    "df[\"courier status\"].value_counts(dropna=False)#nan değerleri de toplar"
   ]
  },
  {
   "cell_type": "code",
   "execution_count": 9,
   "id": "57d9e2c7",
   "metadata": {},
   "outputs": [],
   "source": [
    "df['courier status'].fillna('Unknown', inplace=True)#nan değerleri Unknown olarak doldur."
   ]
  },
  {
   "cell_type": "code",
   "execution_count": 10,
   "id": "0d5d4915",
   "metadata": {},
   "outputs": [
    {
     "data": {
      "text/plain": [
       "Shipped      109487\n",
       "Unknown        6872\n",
       "Unshipped      6681\n",
       "Cancelled      5935\n",
       "Name: courier status, dtype: int64"
      ]
     },
     "execution_count": 10,
     "metadata": {},
     "output_type": "execute_result"
    }
   ],
   "source": [
    "df[\"courier status\"].value_counts()"
   ]
  },
  {
   "cell_type": "code",
   "execution_count": 11,
   "id": "99272011",
   "metadata": {},
   "outputs": [
    {
     "name": "stdout",
     "output_type": "stream",
     "text": [
      "sales channel  currency\n",
      "Amazon.in      INR         128851\n",
      "Non-Amazon     Unknown        124\n",
      "Name: currency, dtype: int64\n"
     ]
    }
   ],
   "source": [
    "# 'Amazon.in' satış kanalına 'INR' ile eksik 'para birimi' atfediliyor\n",
    "df.loc[(df['sales channel'] == 'Amazon.in') & (df['currency'].isnull()), 'currency'] = 'INR'\n",
    "# 'Amazon Dışı' satış kanalı için para birimini 'Bilinmeyen' olarak işaretliyoruz\n",
    "df.loc[(df['sales channel'] == 'Non-Amazon') & (df['currency'].isnull()), 'currency'] = 'Unknown'\n",
    "print(df.groupby('sales channel')\n",
    "['currency'].value_counts(dropna=False))"
   ]
  },
  {
   "cell_type": "code",
   "execution_count": 12,
   "id": "8ad09cfa",
   "metadata": {},
   "outputs": [
    {
     "name": "stdout",
     "output_type": "stream",
     "text": [
      "         index             order id      date                        status  \\\n",
      "1871      1871  404-0566904-4825137  04-29-22                       Shipped   \n",
      "1872      1872  404-0566904-4825137  04-29-22                       Shipped   \n",
      "8752      8752  406-4003386-8768363  04-25-22                       Shipped   \n",
      "11215    11215  402-0107720-7057168  04-23-22                       Shipped   \n",
      "13252    13252  407-4532637-8415521  04-22-22                     Cancelled   \n",
      "15688    15688  404-9229894-8608305  04-21-22                       Shipped   \n",
      "16787    16787  402-4919636-4333150  04-20-22  Shipped - Delivered to Buyer   \n",
      "18351    18351  405-4927647-8064368  04-19-22                       Shipped   \n",
      "22930    22930  402-8628677-0457954  04-16-22  Shipped - Returned to Seller   \n",
      "24986    24986  406-4079063-8291520  04-15-22                     Cancelled   \n",
      "30379    30379  404-7506843-7913132  04-12-22  Shipped - Delivered to Buyer   \n",
      "37963    37963  407-3064376-9158743  04-08-22                     Cancelled   \n",
      "37964    37964  407-3064376-9158743  04-08-22                     Cancelled   \n",
      "60986    60986  171-3257610-9237139  05-22-22  Shipped - Delivered to Buyer   \n",
      "63040    63040  402-1049475-3611523  05-20-22                       Shipped   \n",
      "73675    73675  405-1356730-8598722  05-11-22  Shipped - Delivered to Buyer   \n",
      "73746    73746  407-4664354-2179554  05-11-22                       Shipped   \n",
      "73771    73771  406-7680604-5439529  05-11-22                       Shipped   \n",
      "73772    73772  406-7680604-5439529  05-11-22                       Shipped   \n",
      "73911    73911  405-3420451-5230744  05-11-22                     Cancelled   \n",
      "80011    80011  171-4552355-0255565  05-07-22  Shipped - Returned to Seller   \n",
      "80092    80092  403-2857451-7335536  05-07-22                       Shipped   \n",
      "80455    80455  171-4691098-8489159  05-06-22  Shipped - Delivered to Buyer   \n",
      "84008    84008  405-8605864-8021901  05-04-22  Shipped - Returned to Seller   \n",
      "84757    84757  402-8651786-0683548  05-04-22                       Shipped   \n",
      "104201  104201  403-3190636-2013146  06-18-22  Shipped - Delivered to Buyer   \n",
      "106498  106498  402-8673941-7883531  06-16-22                     Cancelled   \n",
      "124215  124215  405-0340492-2359532  06-04-22                     Cancelled   \n",
      "124357  124357  405-5884153-9925116  06-04-22                       Shipped   \n",
      "124358  124358  405-5884153-9925116  06-04-22                       Shipped   \n",
      "124359  124359  405-5884153-9925116  06-04-22                       Shipped   \n",
      "125385  125385  403-5172380-9787567  06-03-22                       Shipped   \n",
      "126620  126620  403-4249038-6582716  06-02-22  Shipped - Delivered to Buyer   \n",
      "\n",
      "       fulfilment sales channel ship_service_level     style  \\\n",
      "1871       Amazon     Amazon.in          Expedited     J0301   \n",
      "1872       Amazon     Amazon.in          Expedited   JNE3697   \n",
      "8752       Amazon     Amazon.in          Expedited   JNE3376   \n",
      "11215      Amazon     Amazon.in          Expedited     J0003   \n",
      "13252    Merchant     Amazon.in           Standard   JNE3405   \n",
      "15688      Amazon     Amazon.in          Expedited   JNE3510   \n",
      "16787    Merchant     Amazon.in           Standard   JNE1233   \n",
      "18351      Amazon     Amazon.in          Expedited     J0230   \n",
      "22930    Merchant     Amazon.in           Standard     J0003   \n",
      "24986      Amazon     Amazon.in          Expedited   JNE3567   \n",
      "30379    Merchant     Amazon.in           Standard    SET350   \n",
      "37963    Merchant     Amazon.in           Standard   JNE3567   \n",
      "37964    Merchant     Amazon.in           Standard   JNE3405   \n",
      "60986    Merchant     Amazon.in           Standard   JNE3365   \n",
      "63040      Amazon     Amazon.in          Expedited   JNE3739   \n",
      "73675    Merchant     Amazon.in           Standard    SET187   \n",
      "73746      Amazon     Amazon.in          Expedited    SET374   \n",
      "73771      Amazon     Amazon.in          Expedited  PJNE3607   \n",
      "73772      Amazon     Amazon.in          Expedited  PJNE3368   \n",
      "73911      Amazon     Amazon.in          Expedited    SET374   \n",
      "80011    Merchant     Amazon.in           Standard    SET324   \n",
      "80092      Amazon     Amazon.in          Expedited   JNE3510   \n",
      "80455    Merchant     Amazon.in           Standard    SET183   \n",
      "84008    Merchant     Amazon.in           Standard   JNE1951   \n",
      "84757      Amazon     Amazon.in          Expedited   JNE3690   \n",
      "104201   Merchant     Amazon.in           Standard     J0351   \n",
      "106498     Amazon     Amazon.in          Expedited   JNE3734   \n",
      "124215     Amazon     Amazon.in          Expedited   JNE3465   \n",
      "124357     Amazon     Amazon.in          Expedited   JNE3697   \n",
      "124358     Amazon     Amazon.in          Expedited    SET337   \n",
      "124359     Amazon     Amazon.in          Expedited    SET154   \n",
      "125385     Amazon     Amazon.in          Expedited   JNE3366   \n",
      "126620   Merchant     Amazon.in           Standard   JNE3797   \n",
      "\n",
      "                             sku       category  ... qty currency  amount  \\\n",
      "1871                  J0301-TP-L            Top  ...   1      INR   493.0   \n",
      "1872                JNE3697-KR-L          kurta  ...   1      INR   458.0   \n",
      "8752                JNE3376-KR-M          kurta  ...   1      INR   432.0   \n",
      "11215                J0003-SET-S            Set  ...   1      INR   654.0   \n",
      "13252               JNE3405-KR-S          kurta  ...   0      INR   380.0   \n",
      "15688               JNE3510-KR-M          kurta  ...   1      INR   442.0   \n",
      "16787   JNE1233-BLUE-KR-031-XXXL          kurta  ...   1      INR   376.0   \n",
      "18351               J0230-SKD-XS            Set  ...   1      INR  1112.0   \n",
      "22930                J0003-SET-S            Set  ...   1      INR   654.0   \n",
      "24986             JNE3567-KR-XXL          kurta  ...   1      INR   399.0   \n",
      "30379             SET350-KR-NP-L            Set  ...   1      INR  1299.0   \n",
      "37963               JNE3567-KR-M          kurta  ...   0      INR   380.0   \n",
      "37964               JNE3405-KR-S          kurta  ...   0      INR   380.0   \n",
      "60986        JNE3365-KR-1052-A-L          kurta  ...   1      INR   376.0   \n",
      "63040             JNE3739-KR-XXL          kurta  ...   1      INR   459.0   \n",
      "73675            SET187-KR-DH-XL            Set  ...   1      INR   699.0   \n",
      "73746             SET374-KR-NP-M            Set  ...   1      INR   666.0   \n",
      "73771            PJNE3607-KR-4XL          kurta  ...   1      INR   869.0   \n",
      "73772            PJNE3368-KR-4XL          kurta  ...   1      INR   869.0   \n",
      "73911             SET374-KR-NP-M            Set  ...   0      INR     NaN   \n",
      "80011            SET324-KR-NP-XL            Set  ...   1      INR   607.0   \n",
      "80092               JNE3510-KR-S          kurta  ...   1      INR   467.0   \n",
      "80455             SET183-KR-DH-M            Set  ...   1      INR   759.0   \n",
      "84008         JNE1951-KR-155-XXL          kurta  ...   1      INR   368.0   \n",
      "84757              JNE3690-TU-XL            Top  ...   1      INR   487.0   \n",
      "104201               J0351-SET-S            Set  ...   1      INR   792.0   \n",
      "106498             JNE3734-KR-XL          kurta  ...   0      INR     NaN   \n",
      "124215              JNE3465-KR-L          kurta  ...   1      INR   491.0   \n",
      "124357              JNE3697-KR-L          kurta  ...   1      INR   486.0   \n",
      "124358            SET337-KR-NP-L            Set  ...   1      INR   874.0   \n",
      "124359            SET154-KR-NP-L            Set  ...   1      INR   832.0   \n",
      "125385         JNE3366-KR-1053-L          kurta  ...   1      INR   376.0   \n",
      "126620              JNE3797-KR-M  Western Dress  ...   1      INR   735.0   \n",
      "\n",
      "        ship_city ship_state  ship_postal_code ship_country  \\\n",
      "1871          NaN        NaN               NaN          NaN   \n",
      "1872          NaN        NaN               NaN          NaN   \n",
      "8752          NaN        NaN               NaN          NaN   \n",
      "11215         NaN        NaN               NaN          NaN   \n",
      "13252         NaN        NaN               NaN          NaN   \n",
      "15688         NaN        NaN               NaN          NaN   \n",
      "16787         NaN        NaN               NaN          NaN   \n",
      "18351         NaN        NaN               NaN          NaN   \n",
      "22930         NaN        NaN               NaN          NaN   \n",
      "24986         NaN        NaN               NaN          NaN   \n",
      "30379         NaN        NaN               NaN          NaN   \n",
      "37963         NaN        NaN               NaN          NaN   \n",
      "37964         NaN        NaN               NaN          NaN   \n",
      "60986         NaN        NaN               NaN          NaN   \n",
      "63040         NaN        NaN               NaN          NaN   \n",
      "73675         NaN        NaN               NaN          NaN   \n",
      "73746         NaN        NaN               NaN          NaN   \n",
      "73771         NaN        NaN               NaN          NaN   \n",
      "73772         NaN        NaN               NaN          NaN   \n",
      "73911         NaN        NaN               NaN          NaN   \n",
      "80011         NaN        NaN               NaN          NaN   \n",
      "80092         NaN        NaN               NaN          NaN   \n",
      "80455         NaN        NaN               NaN          NaN   \n",
      "84008         NaN        NaN               NaN          NaN   \n",
      "84757         NaN        NaN               NaN          NaN   \n",
      "104201        NaN        NaN               NaN          NaN   \n",
      "106498        NaN        NaN               NaN          NaN   \n",
      "124215        NaN        NaN               NaN          NaN   \n",
      "124357        NaN        NaN               NaN          NaN   \n",
      "124358        NaN        NaN               NaN          NaN   \n",
      "124359        NaN        NaN               NaN          NaN   \n",
      "125385        NaN        NaN               NaN          NaN   \n",
      "126620        NaN        NaN               NaN          NaN   \n",
      "\n",
      "                                            promotion_ids    b2b fulfilled_by  \n",
      "1871         IN Core Free Shipping 2015/04/08 23-48-5-108  False          NaN  \n",
      "1872         IN Core Free Shipping 2015/04/08 23-48-5-108  False          NaN  \n",
      "8752                                                  NaN  False          NaN  \n",
      "11215        IN Core Free Shipping 2015/04/08 23-48-5-108  False          NaN  \n",
      "13252                                                 NaN  False    Easy Ship  \n",
      "15688        IN Core Free Shipping 2015/04/08 23-48-5-108  False          NaN  \n",
      "16787   Amazon PLCC Free-Financing Universal Merchant ...  False    Easy Ship  \n",
      "18351        IN Core Free Shipping 2015/04/08 23-48-5-108  False          NaN  \n",
      "22930   Amazon PLCC Free-Financing Universal Merchant ...  False    Easy Ship  \n",
      "24986                                                 NaN  False          NaN  \n",
      "30379   Amazon PLCC Free-Financing Universal Merchant ...  False    Easy Ship  \n",
      "37963                                                 NaN  False    Easy Ship  \n",
      "37964                                                 NaN  False    Easy Ship  \n",
      "60986   Amazon PLCC Free-Financing Universal Merchant ...  False    Easy Ship  \n",
      "63040        IN Core Free Shipping 2015/04/08 23-48-5-108  False          NaN  \n",
      "73675   Amazon PLCC Free-Financing Universal Merchant ...  False    Easy Ship  \n",
      "73746        IN Core Free Shipping 2015/04/08 23-48-5-108  False          NaN  \n",
      "73771        IN Core Free Shipping 2015/04/08 23-48-5-108  False          NaN  \n",
      "73772        IN Core Free Shipping 2015/04/08 23-48-5-108  False          NaN  \n",
      "73911                                                 NaN  False          NaN  \n",
      "80011   Amazon PLCC Free-Financing Universal Merchant ...  False    Easy Ship  \n",
      "80092        IN Core Free Shipping 2015/04/08 23-48-5-108  False          NaN  \n",
      "80455   Amazon PLCC Free-Financing Universal Merchant ...  False    Easy Ship  \n",
      "84008   Amazon PLCC Free-Financing Universal Merchant ...  False    Easy Ship  \n",
      "84757                                                 NaN  False          NaN  \n",
      "104201  Amazon PLCC Free-Financing Universal Merchant ...  False    Easy Ship  \n",
      "106498       IN Core Free Shipping 2015/04/08 23-48-5-108  False          NaN  \n",
      "124215                                                NaN  False          NaN  \n",
      "124357       IN Core Free Shipping 2015/04/08 23-48-5-108  False          NaN  \n",
      "124358       IN Core Free Shipping 2015/04/08 23-48-5-108  False          NaN  \n",
      "124359       IN Core Free Shipping 2015/04/08 23-48-5-108  False          NaN  \n",
      "125385       IN Core Free Shipping 2015/04/08 23-48-5-108  False          NaN  \n",
      "126620  Amazon PLCC Free-Financing Universal Merchant ...  False    Easy Ship  \n",
      "\n",
      "[33 rows x 23 columns]\n"
     ]
    }
   ],
   "source": [
    "# Eksik gönderim ayrıntılarının aynı satırlardan olup olmadığının araştırılması\n",
    "missing_shipping_info = df[df['ship_city'].isnull() &\n",
    "df['ship_state'].isnull() &\n",
    "                             df['ship_postal_code'].isnull() & df['ship_country'].isnull()]\n",
    "print(missing_shipping_info)"
   ]
  },
  {
   "cell_type": "code",
   "execution_count": 13,
   "id": "5025e270",
   "metadata": {},
   "outputs": [
    {
     "name": "stdout",
     "output_type": "stream",
     "text": [
      "ship_city           0\n",
      "ship_state          0\n",
      "ship_postal_code    0\n",
      "ship_country        0\n",
      "dtype: int64\n"
     ]
    }
   ],
   "source": [
    "#Eksik Shipping değerlerini Unknown olarak doldurma\n",
    "shipping_columns = ['ship_city', 'ship_state', 'ship_postal_code','ship_country']\n",
    "for column in shipping_columns:\n",
    "    df[column].fillna('Unknown', inplace=True)\n",
    "print(df[shipping_columns].isnull().sum())"
   ]
  },
  {
   "cell_type": "code",
   "execution_count": 14,
   "id": "d52a8b11",
   "metadata": {},
   "outputs": [
    {
     "name": "stdout",
     "output_type": "stream",
     "text": [
      "promotion_ids    0\n",
      "fulfilled_by     0\n",
      "dtype: int64\n"
     ]
    }
   ],
   "source": [
    "#(Promosyon uygulama sütunundaki boş değerleri promosyon yok olarak doldurmak) \n",
    "df['promotion_ids'].fillna('No Promotion', inplace=True)\n",
    "#(Easy Ship olmayanları Normal Ship olarak doldurmak)\n",
    "df['fulfilled_by'].fillna('Normal Ship', inplace=True)\n",
    "print(df[['promotion_ids', 'fulfilled_by']].isnull().sum())"
   ]
  },
  {
   "cell_type": "code",
   "execution_count": 15,
   "id": "f629e96c",
   "metadata": {},
   "outputs": [
    {
     "name": "stdout",
     "output_type": "stream",
     "text": [
      "0    400081.0\n",
      "1    560085.0\n",
      "2    410210.0\n",
      "3    605008.0\n",
      "4    600073.0\n",
      "Name: ship_postal_code, dtype: object\n"
     ]
    }
   ],
   "source": [
    "df['ship_postal_code'] = df['ship_postal_code'].apply(lambda x: '{:0>5}'.format(x) if pd.notnull(x) else x)\n",
    "print(df['ship_postal_code'].head())"
   ]
  },
  {
   "cell_type": "markdown",
   "id": "bbc82a4f",
   "metadata": {},
   "source": [
    "Bu işlem sonucunda, 'ship_postal_code' sütunundaki değerler 5 karakter uzunluğunda olacak şekilde düzenleniyor ve başlarına gerekiyorsa sıfır ekleniyor. Eğer değer NaN ise, aynı NaN değeri geri döndürülüyor. "
   ]
  },
  {
   "cell_type": "code",
   "execution_count": 16,
   "id": "7f744336",
   "metadata": {},
   "outputs": [],
   "source": [
    "df['date'] = pd.to_datetime(df['date'])# yıl-ay-gün formatına çevirdik tarihi"
   ]
  },
  {
   "cell_type": "code",
   "execution_count": 17,
   "id": "186b1a38",
   "metadata": {},
   "outputs": [
    {
     "data": {
      "text/plain": [
       "0   2022-04-30\n",
       "1   2022-04-30\n",
       "2   2022-04-30\n",
       "3   2022-04-30\n",
       "4   2022-04-30\n",
       "Name: date, dtype: datetime64[ns]"
      ]
     },
     "execution_count": 17,
     "metadata": {},
     "output_type": "execute_result"
    }
   ],
   "source": [
    "df[\"date\"].head()"
   ]
  },
  {
   "cell_type": "code",
   "execution_count": 18,
   "id": "7a9b678c",
   "metadata": {},
   "outputs": [
    {
     "data": {
      "text/html": [
       "<div>\n",
       "<style scoped>\n",
       "    .dataframe tbody tr th:only-of-type {\n",
       "        vertical-align: middle;\n",
       "    }\n",
       "\n",
       "    .dataframe tbody tr th {\n",
       "        vertical-align: top;\n",
       "    }\n",
       "\n",
       "    .dataframe thead th {\n",
       "        text-align: right;\n",
       "    }\n",
       "</style>\n",
       "<table border=\"1\" class=\"dataframe\">\n",
       "  <thead>\n",
       "    <tr style=\"text-align: right;\">\n",
       "      <th></th>\n",
       "      <th>order id</th>\n",
       "      <th>status</th>\n",
       "      <th>fulfilment</th>\n",
       "      <th>sales channel</th>\n",
       "      <th>ship_service_level</th>\n",
       "      <th>style</th>\n",
       "      <th>sku</th>\n",
       "      <th>category</th>\n",
       "      <th>size</th>\n",
       "      <th>asin</th>\n",
       "      <th>courier status</th>\n",
       "      <th>currency</th>\n",
       "      <th>ship_city</th>\n",
       "      <th>ship_state</th>\n",
       "      <th>ship_postal_code</th>\n",
       "      <th>ship_country</th>\n",
       "      <th>promotion_ids</th>\n",
       "      <th>fulfilled_by</th>\n",
       "    </tr>\n",
       "  </thead>\n",
       "  <tbody>\n",
       "    <tr>\n",
       "      <th>0</th>\n",
       "      <td>405-8078784-5731545</td>\n",
       "      <td>Cancelled</td>\n",
       "      <td>Merchant</td>\n",
       "      <td>Amazon.in</td>\n",
       "      <td>Standard</td>\n",
       "      <td>SET389</td>\n",
       "      <td>SET389-KR-NP-S</td>\n",
       "      <td>Set</td>\n",
       "      <td>S</td>\n",
       "      <td>B09KXVBD7Z</td>\n",
       "      <td>Unknown</td>\n",
       "      <td>INR</td>\n",
       "      <td>MUMBAI</td>\n",
       "      <td>MAHARASHTRA</td>\n",
       "      <td>400081.0</td>\n",
       "      <td>IN</td>\n",
       "      <td>No Promotion</td>\n",
       "      <td>Easy Ship</td>\n",
       "    </tr>\n",
       "    <tr>\n",
       "      <th>1</th>\n",
       "      <td>171-9198151-1101146</td>\n",
       "      <td>Shipped - Delivered to Buyer</td>\n",
       "      <td>Merchant</td>\n",
       "      <td>Amazon.in</td>\n",
       "      <td>Standard</td>\n",
       "      <td>JNE3781</td>\n",
       "      <td>JNE3781-KR-XXXL</td>\n",
       "      <td>kurta</td>\n",
       "      <td>3XL</td>\n",
       "      <td>B09K3WFS32</td>\n",
       "      <td>Shipped</td>\n",
       "      <td>INR</td>\n",
       "      <td>BENGALURU</td>\n",
       "      <td>KARNATAKA</td>\n",
       "      <td>560085.0</td>\n",
       "      <td>IN</td>\n",
       "      <td>Amazon PLCC Free-Financing Universal Merchant ...</td>\n",
       "      <td>Easy Ship</td>\n",
       "    </tr>\n",
       "    <tr>\n",
       "      <th>2</th>\n",
       "      <td>404-0687676-7273146</td>\n",
       "      <td>Shipped</td>\n",
       "      <td>Amazon</td>\n",
       "      <td>Amazon.in</td>\n",
       "      <td>Expedited</td>\n",
       "      <td>JNE3371</td>\n",
       "      <td>JNE3371-KR-XL</td>\n",
       "      <td>kurta</td>\n",
       "      <td>XL</td>\n",
       "      <td>B07WV4JV4D</td>\n",
       "      <td>Shipped</td>\n",
       "      <td>INR</td>\n",
       "      <td>NAVI MUMBAI</td>\n",
       "      <td>MAHARASHTRA</td>\n",
       "      <td>410210.0</td>\n",
       "      <td>IN</td>\n",
       "      <td>IN Core Free Shipping 2015/04/08 23-48-5-108</td>\n",
       "      <td>Normal Ship</td>\n",
       "    </tr>\n",
       "    <tr>\n",
       "      <th>3</th>\n",
       "      <td>403-9615377-8133951</td>\n",
       "      <td>Cancelled</td>\n",
       "      <td>Merchant</td>\n",
       "      <td>Amazon.in</td>\n",
       "      <td>Standard</td>\n",
       "      <td>J0341</td>\n",
       "      <td>J0341-DR-L</td>\n",
       "      <td>Western Dress</td>\n",
       "      <td>L</td>\n",
       "      <td>B099NRCT7B</td>\n",
       "      <td>Unknown</td>\n",
       "      <td>INR</td>\n",
       "      <td>PUDUCHERRY</td>\n",
       "      <td>PUDUCHERRY</td>\n",
       "      <td>605008.0</td>\n",
       "      <td>IN</td>\n",
       "      <td>No Promotion</td>\n",
       "      <td>Easy Ship</td>\n",
       "    </tr>\n",
       "    <tr>\n",
       "      <th>4</th>\n",
       "      <td>407-1069790-7240320</td>\n",
       "      <td>Shipped</td>\n",
       "      <td>Amazon</td>\n",
       "      <td>Amazon.in</td>\n",
       "      <td>Expedited</td>\n",
       "      <td>JNE3671</td>\n",
       "      <td>JNE3671-TU-XXXL</td>\n",
       "      <td>Top</td>\n",
       "      <td>3XL</td>\n",
       "      <td>B098714BZP</td>\n",
       "      <td>Shipped</td>\n",
       "      <td>INR</td>\n",
       "      <td>CHENNAI</td>\n",
       "      <td>TAMIL NADU</td>\n",
       "      <td>600073.0</td>\n",
       "      <td>IN</td>\n",
       "      <td>No Promotion</td>\n",
       "      <td>Normal Ship</td>\n",
       "    </tr>\n",
       "    <tr>\n",
       "      <th>...</th>\n",
       "      <td>...</td>\n",
       "      <td>...</td>\n",
       "      <td>...</td>\n",
       "      <td>...</td>\n",
       "      <td>...</td>\n",
       "      <td>...</td>\n",
       "      <td>...</td>\n",
       "      <td>...</td>\n",
       "      <td>...</td>\n",
       "      <td>...</td>\n",
       "      <td>...</td>\n",
       "      <td>...</td>\n",
       "      <td>...</td>\n",
       "      <td>...</td>\n",
       "      <td>...</td>\n",
       "      <td>...</td>\n",
       "      <td>...</td>\n",
       "      <td>...</td>\n",
       "    </tr>\n",
       "    <tr>\n",
       "      <th>128970</th>\n",
       "      <td>406-6001380-7673107</td>\n",
       "      <td>Shipped</td>\n",
       "      <td>Amazon</td>\n",
       "      <td>Amazon.in</td>\n",
       "      <td>Expedited</td>\n",
       "      <td>JNE3697</td>\n",
       "      <td>JNE3697-KR-XL</td>\n",
       "      <td>kurta</td>\n",
       "      <td>XL</td>\n",
       "      <td>B098112V2V</td>\n",
       "      <td>Shipped</td>\n",
       "      <td>INR</td>\n",
       "      <td>HYDERABAD</td>\n",
       "      <td>TELANGANA</td>\n",
       "      <td>500013.0</td>\n",
       "      <td>IN</td>\n",
       "      <td>No Promotion</td>\n",
       "      <td>Normal Ship</td>\n",
       "    </tr>\n",
       "    <tr>\n",
       "      <th>128971</th>\n",
       "      <td>402-9551604-7544318</td>\n",
       "      <td>Shipped</td>\n",
       "      <td>Amazon</td>\n",
       "      <td>Amazon.in</td>\n",
       "      <td>Expedited</td>\n",
       "      <td>SET401</td>\n",
       "      <td>SET401-KR-NP-M</td>\n",
       "      <td>Set</td>\n",
       "      <td>M</td>\n",
       "      <td>B09VC6KHX8</td>\n",
       "      <td>Shipped</td>\n",
       "      <td>INR</td>\n",
       "      <td>GURUGRAM</td>\n",
       "      <td>HARYANA</td>\n",
       "      <td>122004.0</td>\n",
       "      <td>IN</td>\n",
       "      <td>IN Core Free Shipping 2015/04/08 23-48-5-108</td>\n",
       "      <td>Normal Ship</td>\n",
       "    </tr>\n",
       "    <tr>\n",
       "      <th>128972</th>\n",
       "      <td>407-9547469-3152358</td>\n",
       "      <td>Shipped</td>\n",
       "      <td>Amazon</td>\n",
       "      <td>Amazon.in</td>\n",
       "      <td>Expedited</td>\n",
       "      <td>J0157</td>\n",
       "      <td>J0157-DR-XXL</td>\n",
       "      <td>Western Dress</td>\n",
       "      <td>XXL</td>\n",
       "      <td>B0982YZ51B</td>\n",
       "      <td>Shipped</td>\n",
       "      <td>INR</td>\n",
       "      <td>HYDERABAD</td>\n",
       "      <td>TELANGANA</td>\n",
       "      <td>500049.0</td>\n",
       "      <td>IN</td>\n",
       "      <td>No Promotion</td>\n",
       "      <td>Normal Ship</td>\n",
       "    </tr>\n",
       "    <tr>\n",
       "      <th>128973</th>\n",
       "      <td>402-6184140-0545956</td>\n",
       "      <td>Shipped</td>\n",
       "      <td>Amazon</td>\n",
       "      <td>Amazon.in</td>\n",
       "      <td>Expedited</td>\n",
       "      <td>J0012</td>\n",
       "      <td>J0012-SKD-XS</td>\n",
       "      <td>Set</td>\n",
       "      <td>XS</td>\n",
       "      <td>B0894Y2NJQ</td>\n",
       "      <td>Shipped</td>\n",
       "      <td>INR</td>\n",
       "      <td>Halol</td>\n",
       "      <td>Gujarat</td>\n",
       "      <td>389350.0</td>\n",
       "      <td>IN</td>\n",
       "      <td>IN Core Free Shipping 2015/04/08 23-48-5-108</td>\n",
       "      <td>Normal Ship</td>\n",
       "    </tr>\n",
       "    <tr>\n",
       "      <th>128974</th>\n",
       "      <td>408-7436540-8728312</td>\n",
       "      <td>Shipped</td>\n",
       "      <td>Amazon</td>\n",
       "      <td>Amazon.in</td>\n",
       "      <td>Expedited</td>\n",
       "      <td>J0003</td>\n",
       "      <td>J0003-SET-S</td>\n",
       "      <td>Set</td>\n",
       "      <td>S</td>\n",
       "      <td>B0894X27FC</td>\n",
       "      <td>Shipped</td>\n",
       "      <td>INR</td>\n",
       "      <td>Raipur</td>\n",
       "      <td>CHHATTISGARH</td>\n",
       "      <td>492014.0</td>\n",
       "      <td>IN</td>\n",
       "      <td>IN Core Free Shipping 2015/04/08 23-48-5-108</td>\n",
       "      <td>Normal Ship</td>\n",
       "    </tr>\n",
       "  </tbody>\n",
       "</table>\n",
       "<p>128975 rows × 18 columns</p>\n",
       "</div>"
      ],
      "text/plain": [
       "                   order id                        status fulfilment  \\\n",
       "0       405-8078784-5731545                     Cancelled   Merchant   \n",
       "1       171-9198151-1101146  Shipped - Delivered to Buyer   Merchant   \n",
       "2       404-0687676-7273146                       Shipped     Amazon   \n",
       "3       403-9615377-8133951                     Cancelled   Merchant   \n",
       "4       407-1069790-7240320                       Shipped     Amazon   \n",
       "...                     ...                           ...        ...   \n",
       "128970  406-6001380-7673107                       Shipped     Amazon   \n",
       "128971  402-9551604-7544318                       Shipped     Amazon   \n",
       "128972  407-9547469-3152358                       Shipped     Amazon   \n",
       "128973  402-6184140-0545956                       Shipped     Amazon   \n",
       "128974  408-7436540-8728312                       Shipped     Amazon   \n",
       "\n",
       "       sales channel ship_service_level    style              sku  \\\n",
       "0          Amazon.in           Standard   SET389   SET389-KR-NP-S   \n",
       "1          Amazon.in           Standard  JNE3781  JNE3781-KR-XXXL   \n",
       "2          Amazon.in          Expedited  JNE3371    JNE3371-KR-XL   \n",
       "3          Amazon.in           Standard    J0341       J0341-DR-L   \n",
       "4          Amazon.in          Expedited  JNE3671  JNE3671-TU-XXXL   \n",
       "...              ...                ...      ...              ...   \n",
       "128970     Amazon.in          Expedited  JNE3697    JNE3697-KR-XL   \n",
       "128971     Amazon.in          Expedited   SET401   SET401-KR-NP-M   \n",
       "128972     Amazon.in          Expedited    J0157     J0157-DR-XXL   \n",
       "128973     Amazon.in          Expedited    J0012     J0012-SKD-XS   \n",
       "128974     Amazon.in          Expedited    J0003      J0003-SET-S   \n",
       "\n",
       "             category size        asin courier status currency    ship_city  \\\n",
       "0                 Set    S  B09KXVBD7Z        Unknown      INR       MUMBAI   \n",
       "1               kurta  3XL  B09K3WFS32        Shipped      INR    BENGALURU   \n",
       "2               kurta   XL  B07WV4JV4D        Shipped      INR  NAVI MUMBAI   \n",
       "3       Western Dress    L  B099NRCT7B        Unknown      INR   PUDUCHERRY   \n",
       "4                 Top  3XL  B098714BZP        Shipped      INR      CHENNAI   \n",
       "...               ...  ...         ...            ...      ...          ...   \n",
       "128970          kurta   XL  B098112V2V        Shipped      INR    HYDERABAD   \n",
       "128971            Set    M  B09VC6KHX8        Shipped      INR     GURUGRAM   \n",
       "128972  Western Dress  XXL  B0982YZ51B        Shipped      INR    HYDERABAD   \n",
       "128973            Set   XS  B0894Y2NJQ        Shipped      INR        Halol   \n",
       "128974            Set    S  B0894X27FC        Shipped      INR       Raipur   \n",
       "\n",
       "          ship_state ship_postal_code ship_country  \\\n",
       "0        MAHARASHTRA         400081.0           IN   \n",
       "1          KARNATAKA         560085.0           IN   \n",
       "2        MAHARASHTRA         410210.0           IN   \n",
       "3         PUDUCHERRY         605008.0           IN   \n",
       "4         TAMIL NADU         600073.0           IN   \n",
       "...              ...              ...          ...   \n",
       "128970     TELANGANA         500013.0           IN   \n",
       "128971       HARYANA         122004.0           IN   \n",
       "128972     TELANGANA         500049.0           IN   \n",
       "128973       Gujarat         389350.0           IN   \n",
       "128974  CHHATTISGARH         492014.0           IN   \n",
       "\n",
       "                                            promotion_ids fulfilled_by  \n",
       "0                                            No Promotion    Easy Ship  \n",
       "1       Amazon PLCC Free-Financing Universal Merchant ...    Easy Ship  \n",
       "2            IN Core Free Shipping 2015/04/08 23-48-5-108  Normal Ship  \n",
       "3                                            No Promotion    Easy Ship  \n",
       "4                                            No Promotion  Normal Ship  \n",
       "...                                                   ...          ...  \n",
       "128970                                       No Promotion  Normal Ship  \n",
       "128971       IN Core Free Shipping 2015/04/08 23-48-5-108  Normal Ship  \n",
       "128972                                       No Promotion  Normal Ship  \n",
       "128973       IN Core Free Shipping 2015/04/08 23-48-5-108  Normal Ship  \n",
       "128974       IN Core Free Shipping 2015/04/08 23-48-5-108  Normal Ship  \n",
       "\n",
       "[128975 rows x 18 columns]"
      ]
     },
     "execution_count": 18,
     "metadata": {},
     "output_type": "execute_result"
    }
   ],
   "source": [
    "df.select_dtypes(include='object')# kategorik tipli değişkenleri(object) olanları görüntüleme"
   ]
  },
  {
   "cell_type": "code",
   "execution_count": 19,
   "id": "910a06ba",
   "metadata": {},
   "outputs": [
    {
     "name": "stdout",
     "output_type": "stream",
     "text": [
      "index                          int64\n",
      "order id                      object\n",
      "date                  datetime64[ns]\n",
      "status                      category\n",
      "fulfilment                  category\n",
      "sales channel               category\n",
      "ship_service_level          category\n",
      "style                       category\n",
      "sku                           object\n",
      "category                    category\n",
      "size                        category\n",
      "asin                          object\n",
      "courier status              category\n",
      "qty                            int64\n",
      "currency                    category\n",
      "amount                       float64\n",
      "ship_city                   category\n",
      "ship_state                  category\n",
      "ship_postal_code              object\n",
      "ship_country                category\n",
      "promotion_ids               category\n",
      "b2b                             bool\n",
      "fulfilled_by                category\n",
      "dtype: object\n"
     ]
    }
   ],
   "source": [
    "categorical_columns = ['status', 'fulfilment', 'sales channel',\n",
    "'ship_service_level',\n",
    "'currency',\n",
    "'promotion_ids',\n",
    "'style', 'category', 'size', 'courier status',\n",
    "'ship_city', 'ship_state', 'ship_country',\n",
    "'fulfilled_by']\n",
    "for column in categorical_columns:\n",
    "    df[column] = df[column].astype('category')\n",
    "print(df.dtypes)\n",
    "\n",
    "#df.degisken = pd.Categorical(df.degisken) şeklinde tek satırda yapabilirdik.\n",
    "#object olarak tanımlanan değişkenleri category olarak değiştirdik"
   ]
  },
  {
   "cell_type": "code",
   "execution_count": 20,
   "id": "30759cda",
   "metadata": {},
   "outputs": [],
   "source": [
    "df.drop_duplicates(inplace=True)\n",
    "df.to_csv('Cleaned_Amazon_Sale_Report.csv', index=False)"
   ]
  },
  {
   "cell_type": "code",
   "execution_count": 21,
   "id": "7ddb2984",
   "metadata": {
    "scrolled": true
   },
   "outputs": [
    {
     "data": {
      "text/html": [
       "<div>\n",
       "<style scoped>\n",
       "    .dataframe tbody tr th:only-of-type {\n",
       "        vertical-align: middle;\n",
       "    }\n",
       "\n",
       "    .dataframe tbody tr th {\n",
       "        vertical-align: top;\n",
       "    }\n",
       "\n",
       "    .dataframe thead th {\n",
       "        text-align: right;\n",
       "    }\n",
       "</style>\n",
       "<table border=\"1\" class=\"dataframe\">\n",
       "  <thead>\n",
       "    <tr style=\"text-align: right;\">\n",
       "      <th></th>\n",
       "      <th>index</th>\n",
       "      <th>order id</th>\n",
       "      <th>date</th>\n",
       "      <th>status</th>\n",
       "      <th>fulfilment</th>\n",
       "      <th>sales channel</th>\n",
       "      <th>ship_service_level</th>\n",
       "      <th>style</th>\n",
       "      <th>sku</th>\n",
       "      <th>category</th>\n",
       "      <th>...</th>\n",
       "      <th>qty</th>\n",
       "      <th>currency</th>\n",
       "      <th>amount</th>\n",
       "      <th>ship_city</th>\n",
       "      <th>ship_state</th>\n",
       "      <th>ship_postal_code</th>\n",
       "      <th>ship_country</th>\n",
       "      <th>promotion_ids</th>\n",
       "      <th>b2b</th>\n",
       "      <th>fulfilled_by</th>\n",
       "    </tr>\n",
       "  </thead>\n",
       "  <tbody>\n",
       "    <tr>\n",
       "      <th>0</th>\n",
       "      <td>0</td>\n",
       "      <td>405-8078784-5731545</td>\n",
       "      <td>2022-04-30</td>\n",
       "      <td>Cancelled</td>\n",
       "      <td>Merchant</td>\n",
       "      <td>Amazon.in</td>\n",
       "      <td>Standard</td>\n",
       "      <td>SET389</td>\n",
       "      <td>SET389-KR-NP-S</td>\n",
       "      <td>Set</td>\n",
       "      <td>...</td>\n",
       "      <td>0</td>\n",
       "      <td>INR</td>\n",
       "      <td>647.62</td>\n",
       "      <td>MUMBAI</td>\n",
       "      <td>MAHARASHTRA</td>\n",
       "      <td>400081.0</td>\n",
       "      <td>IN</td>\n",
       "      <td>No Promotion</td>\n",
       "      <td>False</td>\n",
       "      <td>Easy Ship</td>\n",
       "    </tr>\n",
       "    <tr>\n",
       "      <th>1</th>\n",
       "      <td>1</td>\n",
       "      <td>171-9198151-1101146</td>\n",
       "      <td>2022-04-30</td>\n",
       "      <td>Shipped - Delivered to Buyer</td>\n",
       "      <td>Merchant</td>\n",
       "      <td>Amazon.in</td>\n",
       "      <td>Standard</td>\n",
       "      <td>JNE3781</td>\n",
       "      <td>JNE3781-KR-XXXL</td>\n",
       "      <td>kurta</td>\n",
       "      <td>...</td>\n",
       "      <td>1</td>\n",
       "      <td>INR</td>\n",
       "      <td>406.00</td>\n",
       "      <td>BENGALURU</td>\n",
       "      <td>KARNATAKA</td>\n",
       "      <td>560085.0</td>\n",
       "      <td>IN</td>\n",
       "      <td>Amazon PLCC Free-Financing Universal Merchant ...</td>\n",
       "      <td>False</td>\n",
       "      <td>Easy Ship</td>\n",
       "    </tr>\n",
       "    <tr>\n",
       "      <th>2</th>\n",
       "      <td>2</td>\n",
       "      <td>404-0687676-7273146</td>\n",
       "      <td>2022-04-30</td>\n",
       "      <td>Shipped</td>\n",
       "      <td>Amazon</td>\n",
       "      <td>Amazon.in</td>\n",
       "      <td>Expedited</td>\n",
       "      <td>JNE3371</td>\n",
       "      <td>JNE3371-KR-XL</td>\n",
       "      <td>kurta</td>\n",
       "      <td>...</td>\n",
       "      <td>1</td>\n",
       "      <td>INR</td>\n",
       "      <td>329.00</td>\n",
       "      <td>NAVI MUMBAI</td>\n",
       "      <td>MAHARASHTRA</td>\n",
       "      <td>410210.0</td>\n",
       "      <td>IN</td>\n",
       "      <td>IN Core Free Shipping 2015/04/08 23-48-5-108</td>\n",
       "      <td>True</td>\n",
       "      <td>Normal Ship</td>\n",
       "    </tr>\n",
       "    <tr>\n",
       "      <th>3</th>\n",
       "      <td>3</td>\n",
       "      <td>403-9615377-8133951</td>\n",
       "      <td>2022-04-30</td>\n",
       "      <td>Cancelled</td>\n",
       "      <td>Merchant</td>\n",
       "      <td>Amazon.in</td>\n",
       "      <td>Standard</td>\n",
       "      <td>J0341</td>\n",
       "      <td>J0341-DR-L</td>\n",
       "      <td>Western Dress</td>\n",
       "      <td>...</td>\n",
       "      <td>0</td>\n",
       "      <td>INR</td>\n",
       "      <td>753.33</td>\n",
       "      <td>PUDUCHERRY</td>\n",
       "      <td>PUDUCHERRY</td>\n",
       "      <td>605008.0</td>\n",
       "      <td>IN</td>\n",
       "      <td>No Promotion</td>\n",
       "      <td>False</td>\n",
       "      <td>Easy Ship</td>\n",
       "    </tr>\n",
       "    <tr>\n",
       "      <th>4</th>\n",
       "      <td>4</td>\n",
       "      <td>407-1069790-7240320</td>\n",
       "      <td>2022-04-30</td>\n",
       "      <td>Shipped</td>\n",
       "      <td>Amazon</td>\n",
       "      <td>Amazon.in</td>\n",
       "      <td>Expedited</td>\n",
       "      <td>JNE3671</td>\n",
       "      <td>JNE3671-TU-XXXL</td>\n",
       "      <td>Top</td>\n",
       "      <td>...</td>\n",
       "      <td>1</td>\n",
       "      <td>INR</td>\n",
       "      <td>574.00</td>\n",
       "      <td>CHENNAI</td>\n",
       "      <td>TAMIL NADU</td>\n",
       "      <td>600073.0</td>\n",
       "      <td>IN</td>\n",
       "      <td>No Promotion</td>\n",
       "      <td>False</td>\n",
       "      <td>Normal Ship</td>\n",
       "    </tr>\n",
       "  </tbody>\n",
       "</table>\n",
       "<p>5 rows × 23 columns</p>\n",
       "</div>"
      ],
      "text/plain": [
       "   index             order id        date                        status  \\\n",
       "0      0  405-8078784-5731545  2022-04-30                     Cancelled   \n",
       "1      1  171-9198151-1101146  2022-04-30  Shipped - Delivered to Buyer   \n",
       "2      2  404-0687676-7273146  2022-04-30                       Shipped   \n",
       "3      3  403-9615377-8133951  2022-04-30                     Cancelled   \n",
       "4      4  407-1069790-7240320  2022-04-30                       Shipped   \n",
       "\n",
       "  fulfilment sales channel ship_service_level    style              sku  \\\n",
       "0   Merchant     Amazon.in           Standard   SET389   SET389-KR-NP-S   \n",
       "1   Merchant     Amazon.in           Standard  JNE3781  JNE3781-KR-XXXL   \n",
       "2     Amazon     Amazon.in          Expedited  JNE3371    JNE3371-KR-XL   \n",
       "3   Merchant     Amazon.in           Standard    J0341       J0341-DR-L   \n",
       "4     Amazon     Amazon.in          Expedited  JNE3671  JNE3671-TU-XXXL   \n",
       "\n",
       "        category  ... qty currency  amount    ship_city   ship_state  \\\n",
       "0            Set  ...   0      INR  647.62       MUMBAI  MAHARASHTRA   \n",
       "1          kurta  ...   1      INR  406.00    BENGALURU    KARNATAKA   \n",
       "2          kurta  ...   1      INR  329.00  NAVI MUMBAI  MAHARASHTRA   \n",
       "3  Western Dress  ...   0      INR  753.33   PUDUCHERRY   PUDUCHERRY   \n",
       "4            Top  ...   1      INR  574.00      CHENNAI   TAMIL NADU   \n",
       "\n",
       "   ship_postal_code ship_country  \\\n",
       "0          400081.0           IN   \n",
       "1          560085.0           IN   \n",
       "2          410210.0           IN   \n",
       "3          605008.0           IN   \n",
       "4          600073.0           IN   \n",
       "\n",
       "                                       promotion_ids    b2b fulfilled_by  \n",
       "0                                       No Promotion  False    Easy Ship  \n",
       "1  Amazon PLCC Free-Financing Universal Merchant ...  False    Easy Ship  \n",
       "2       IN Core Free Shipping 2015/04/08 23-48-5-108   True  Normal Ship  \n",
       "3                                       No Promotion  False    Easy Ship  \n",
       "4                                       No Promotion  False  Normal Ship  \n",
       "\n",
       "[5 rows x 23 columns]"
      ]
     },
     "execution_count": 21,
     "metadata": {},
     "output_type": "execute_result"
    }
   ],
   "source": [
    "df=pd.read_csv('Cleaned_Amazon_Sale_Report.csv')\n",
    "df.head()"
   ]
  },
  {
   "cell_type": "code",
   "execution_count": 22,
   "id": "682b6014",
   "metadata": {
    "scrolled": true
   },
   "outputs": [
    {
     "name": "stdout",
     "output_type": "stream",
     "text": [
      "<class 'pandas.core.frame.DataFrame'>\n",
      "RangeIndex: 128975 entries, 0 to 128974\n",
      "Data columns (total 23 columns):\n",
      " #   Column              Non-Null Count   Dtype  \n",
      "---  ------              --------------   -----  \n",
      " 0   index               128975 non-null  int64  \n",
      " 1   order id            128975 non-null  object \n",
      " 2   date                128975 non-null  object \n",
      " 3   status              128975 non-null  object \n",
      " 4   fulfilment          128975 non-null  object \n",
      " 5   sales channel       128975 non-null  object \n",
      " 6   ship_service_level  128975 non-null  object \n",
      " 7   style               128975 non-null  object \n",
      " 8   sku                 128975 non-null  object \n",
      " 9   category            128975 non-null  object \n",
      " 10  size                128975 non-null  object \n",
      " 11  asin                128975 non-null  object \n",
      " 12  courier status      128975 non-null  object \n",
      " 13  qty                 128975 non-null  int64  \n",
      " 14  currency            128975 non-null  object \n",
      " 15  amount              121180 non-null  float64\n",
      " 16  ship_city           128975 non-null  object \n",
      " 17  ship_state          128975 non-null  object \n",
      " 18  ship_postal_code    128975 non-null  object \n",
      " 19  ship_country        128975 non-null  object \n",
      " 20  promotion_ids       128975 non-null  object \n",
      " 21  b2b                 128975 non-null  bool   \n",
      " 22  fulfilled_by        128975 non-null  object \n",
      "dtypes: bool(1), float64(1), int64(2), object(19)\n",
      "memory usage: 21.8+ MB\n"
     ]
    }
   ],
   "source": [
    "df.info()"
   ]
  },
  {
   "cell_type": "markdown",
   "id": "420764b6",
   "metadata": {},
   "source": [
    "## Veriyi Tekrar Kontrol Ediyoruz"
   ]
  },
  {
   "cell_type": "code",
   "execution_count": 23,
   "id": "b45cfa69",
   "metadata": {},
   "outputs": [
    {
     "data": {
      "text/plain": [
       "index                    0\n",
       "order id                 0\n",
       "date                     0\n",
       "status                   0\n",
       "fulfilment               0\n",
       "sales channel            0\n",
       "ship_service_level       0\n",
       "style                    0\n",
       "sku                      0\n",
       "category                 0\n",
       "size                     0\n",
       "asin                     0\n",
       "courier status           0\n",
       "qty                      0\n",
       "currency                 0\n",
       "amount                7795\n",
       "ship_city                0\n",
       "ship_state               0\n",
       "ship_postal_code         0\n",
       "ship_country             0\n",
       "promotion_ids            0\n",
       "b2b                      0\n",
       "fulfilled_by             0\n",
       "dtype: int64"
      ]
     },
     "execution_count": 23,
     "metadata": {},
     "output_type": "execute_result"
    }
   ],
   "source": [
    "df.isnull().sum()"
   ]
  },
  {
   "cell_type": "code",
   "execution_count": 24,
   "id": "2bc53f9d",
   "metadata": {},
   "outputs": [
    {
     "data": {
      "text/html": [
       "<div>\n",
       "<style scoped>\n",
       "    .dataframe tbody tr th:only-of-type {\n",
       "        vertical-align: middle;\n",
       "    }\n",
       "\n",
       "    .dataframe tbody tr th {\n",
       "        vertical-align: top;\n",
       "    }\n",
       "\n",
       "    .dataframe thead th {\n",
       "        text-align: right;\n",
       "    }\n",
       "</style>\n",
       "<table border=\"1\" class=\"dataframe\">\n",
       "  <thead>\n",
       "    <tr style=\"text-align: right;\">\n",
       "      <th></th>\n",
       "      <th>count</th>\n",
       "      <th>mean</th>\n",
       "      <th>std</th>\n",
       "      <th>min</th>\n",
       "      <th>25%</th>\n",
       "      <th>50%</th>\n",
       "      <th>75%</th>\n",
       "      <th>max</th>\n",
       "    </tr>\n",
       "  </thead>\n",
       "  <tbody>\n",
       "    <tr>\n",
       "      <th>index</th>\n",
       "      <td>128975.0</td>\n",
       "      <td>64487.000000</td>\n",
       "      <td>37232.019822</td>\n",
       "      <td>0.0</td>\n",
       "      <td>32243.5</td>\n",
       "      <td>64487.0</td>\n",
       "      <td>96730.5</td>\n",
       "      <td>128974.0</td>\n",
       "    </tr>\n",
       "    <tr>\n",
       "      <th>qty</th>\n",
       "      <td>128975.0</td>\n",
       "      <td>0.904431</td>\n",
       "      <td>0.313354</td>\n",
       "      <td>0.0</td>\n",
       "      <td>1.0</td>\n",
       "      <td>1.0</td>\n",
       "      <td>1.0</td>\n",
       "      <td>15.0</td>\n",
       "    </tr>\n",
       "    <tr>\n",
       "      <th>amount</th>\n",
       "      <td>121180.0</td>\n",
       "      <td>648.561465</td>\n",
       "      <td>281.211687</td>\n",
       "      <td>0.0</td>\n",
       "      <td>449.0</td>\n",
       "      <td>605.0</td>\n",
       "      <td>788.0</td>\n",
       "      <td>5584.0</td>\n",
       "    </tr>\n",
       "  </tbody>\n",
       "</table>\n",
       "</div>"
      ],
      "text/plain": [
       "           count          mean           std  min      25%      50%      75%  \\\n",
       "index   128975.0  64487.000000  37232.019822  0.0  32243.5  64487.0  96730.5   \n",
       "qty     128975.0      0.904431      0.313354  0.0      1.0      1.0      1.0   \n",
       "amount  121180.0    648.561465    281.211687  0.0    449.0    605.0    788.0   \n",
       "\n",
       "             max  \n",
       "index   128974.0  \n",
       "qty         15.0  \n",
       "amount    5584.0  "
      ]
     },
     "execution_count": 24,
     "metadata": {},
     "output_type": "execute_result"
    }
   ],
   "source": [
    "df.describe().T"
   ]
  },
  {
   "cell_type": "code",
   "execution_count": 25,
   "id": "cd985b46",
   "metadata": {},
   "outputs": [
    {
     "data": {
      "text/plain": [
       "605.0"
      ]
     },
     "execution_count": 25,
     "metadata": {},
     "output_type": "execute_result"
    }
   ],
   "source": [
    "df[\"amount\"].median()"
   ]
  },
  {
   "cell_type": "markdown",
   "id": "79f2adc0",
   "metadata": {},
   "source": [
    "### \"amount\" Değişkenindeki Eksik Verileri Veri Setinin En Yüksek amount değeri olan Verilerinin %50'sinin Ortalaması İle Doldurmayı Tercih Ettim. Tüm amount'un Ortalaması 648 iken bizim ortalama formülümüz ile 848 değerine ulaştık. Böyle yapmamızın sebebi min ve max değerlerinin arasının çok açık olması, yani std yüksek. Ben de yüksek sınırdaki verileri de temsilen bu ortalama yöntemini tercih ettim. amount değişkenin yeni ortalaması 660 oldu."
   ]
  },
  {
   "cell_type": "code",
   "execution_count": 26,
   "id": "b0e2732f",
   "metadata": {},
   "outputs": [
    {
     "data": {
      "text/plain": [
       "42039     5584.00\n",
       "11160     5495.00\n",
       "24494     4235.72\n",
       "89150     3036.00\n",
       "121225    2894.00\n",
       "           ...   \n",
       "11606      583.00\n",
       "13309      583.00\n",
       "14009      583.00\n",
       "15442      583.00\n",
       "18479      583.00\n",
       "Name: amount, Length: 64487, dtype: float64"
      ]
     },
     "execution_count": 26,
     "metadata": {},
     "output_type": "execute_result"
    }
   ],
   "source": [
    "half_max_values = df['amount'].nlargest(int(len(df) / 2))\n",
    "half_max_values"
   ]
  },
  {
   "cell_type": "code",
   "execution_count": 27,
   "id": "8380ee30",
   "metadata": {},
   "outputs": [
    {
     "data": {
      "text/plain": [
       "848.2664830120799"
      ]
     },
     "execution_count": 27,
     "metadata": {},
     "output_type": "execute_result"
    }
   ],
   "source": [
    "half_max_values.mean()"
   ]
  },
  {
   "cell_type": "code",
   "execution_count": 28,
   "id": "23f7f1f5",
   "metadata": {},
   "outputs": [],
   "source": [
    "df[\"amount\"].fillna(half_max_values.mean(), inplace = True)\n"
   ]
  },
  {
   "cell_type": "code",
   "execution_count": 29,
   "id": "c594817d",
   "metadata": {},
   "outputs": [
    {
     "data": {
      "text/plain": [
       "0"
      ]
     },
     "execution_count": 29,
     "metadata": {},
     "output_type": "execute_result"
    }
   ],
   "source": [
    "df[\"amount\"].isnull().sum()"
   ]
  },
  {
   "cell_type": "code",
   "execution_count": 30,
   "id": "26b6c78b",
   "metadata": {},
   "outputs": [
    {
     "data": {
      "text/plain": [
       "660.6312505142793"
      ]
     },
     "execution_count": 30,
     "metadata": {},
     "output_type": "execute_result"
    }
   ],
   "source": [
    "df[\"amount\"].mean()"
   ]
  },
  {
   "cell_type": "markdown",
   "id": "e3f0c59e",
   "metadata": {},
   "source": [
    "## Aykırı Değer Analizi"
   ]
  },
  {
   "cell_type": "markdown",
   "id": "653761cf",
   "metadata": {},
   "source": [
    "### Sektör bilgisi,standart sapma eşiği, Z skrou yaklaşımı gibi methodlarla sürekli değişkenler içindeki aykırı değerler tespit edilir"
   ]
  },
  {
   "cell_type": "code",
   "execution_count": 31,
   "id": "22d93a80",
   "metadata": {},
   "outputs": [
    {
     "data": {
      "text/plain": [
       "<bound method Series.count of 0          647.62\n",
       "1          406.00\n",
       "2          329.00\n",
       "3          753.33\n",
       "4          574.00\n",
       "           ...   \n",
       "128970     517.00\n",
       "128971     999.00\n",
       "128972     690.00\n",
       "128973    1199.00\n",
       "128974     696.00\n",
       "Name: amount, Length: 128975, dtype: float64>"
      ]
     },
     "execution_count": 31,
     "metadata": {},
     "output_type": "execute_result"
    }
   ],
   "source": [
    "df[\"amount\"].count"
   ]
  },
  {
   "cell_type": "code",
   "execution_count": 32,
   "id": "2279ab73",
   "metadata": {},
   "outputs": [
    {
     "data": {
      "text/plain": [
       "0    647.62\n",
       "1    406.00\n",
       "2    329.00\n",
       "3    753.33\n",
       "4    574.00\n",
       "Name: amount, dtype: float64"
      ]
     },
     "execution_count": 32,
     "metadata": {},
     "output_type": "execute_result"
    }
   ],
   "source": [
    "df_amount=df[\"amount\"]\n",
    "df_amount.head()"
   ]
  },
  {
   "cell_type": "markdown",
   "id": "464ea421",
   "metadata": {},
   "source": [
    "## Boxplot ile Aykırı Değerleri Görelim"
   ]
  },
  {
   "cell_type": "code",
   "execution_count": 33,
   "id": "25fb526d",
   "metadata": {},
   "outputs": [
    {
     "data": {
      "text/plain": [
       "<Axes: xlabel='amount'>"
      ]
     },
     "execution_count": 33,
     "metadata": {},
     "output_type": "execute_result"
    },
    {
     "data": {
      "image/png": "[encoded data removed]",
      "text/plain": [
       "<Figure size 640x480 with 1 Axes>"
      ]
     },
     "metadata": {},
     "output_type": "display_data"
    }
   ],
   "source": [
    "sns.boxplot(x=df_amount)"
   ]
  },
  {
   "cell_type": "markdown",
   "id": "a026f336",
   "metadata": {},
   "source": [
    "### En Aykırı Olan(Max Fiyatlı) Ürünün Kategorisini Öğrenelim"
   ]
  },
  {
   "cell_type": "code",
   "execution_count": 34,
   "id": "69dd9d8a",
   "metadata": {},
   "outputs": [
    {
     "data": {
      "text/plain": [
       "'Set'"
      ]
     },
     "execution_count": 34,
     "metadata": {},
     "output_type": "execute_result"
    }
   ],
   "source": [
    "df[df[\"amount\"]==df[\"amount\"].max()][\"category\"].iloc[0]"
   ]
  },
  {
   "cell_type": "markdown",
   "id": "26afcf40",
   "metadata": {},
   "source": [
    "### Diğer Kategorilerin MAX'ları ile Kıyaslayalım"
   ]
  },
  {
   "cell_type": "code",
   "execution_count": 35,
   "id": "6382a33d",
   "metadata": {},
   "outputs": [
    {
     "data": {
      "text/plain": [
       "category\n",
       "Blouse           1266.66\n",
       "Bottom           1028.58\n",
       "Dupatta           305.00\n",
       "Ethnic Dress     1449.00\n",
       "Saree            2058.00\n",
       "Set              5584.00\n",
       "Top              1797.00\n",
       "Western Dress    2860.00\n",
       "kurta            2796.00\n",
       "Name: amount, dtype: float64"
      ]
     },
     "execution_count": 35,
     "metadata": {},
     "output_type": "execute_result"
    }
   ],
   "source": [
    "df.groupby(\"category\")[\"amount\"].max()"
   ]
  },
  {
   "cell_type": "markdown",
   "id": "3b2337e6",
   "metadata": {},
   "source": [
    "#### Veri Setinden Sadece Set Kategorisini Filtreleyelim ve Set Kategorisinin En Yüksek 70 Tutarını Görüntüleyelim."
   ]
  },
  {
   "cell_type": "code",
   "execution_count": 36,
   "id": "31c84a38",
   "metadata": {},
   "outputs": [
    {
     "data": {
      "text/plain": [
       "42039     5584.00\n",
       "11160     5495.00\n",
       "24494     4235.72\n",
       "89150     3036.00\n",
       "121225    2894.00\n",
       "           ...   \n",
       "83337     1776.00\n",
       "19130     1729.00\n",
       "85921     1729.00\n",
       "23877     1729.00\n",
       "20511     1729.00\n",
       "Name: amount, Length: 70, dtype: float64"
      ]
     },
     "execution_count": 36,
     "metadata": {},
     "output_type": "execute_result"
    }
   ],
   "source": [
    "filtered_df = df[df['category'] == 'Set']\n",
    "\n",
    "# Filtrelenmiş veri çerçevesinde 'amount' sütununu en yüksekten sıralayalım\n",
    "sorted_values = filtered_df.sort_values(by='amount', ascending=False)\n",
    "sorted_values.groupby(\"category\")[\"amount\"].head(70)"
   ]
  },
  {
   "cell_type": "markdown",
   "id": "d73d3669",
   "metadata": {},
   "source": [
    "### Set Verisinin Diğer İstatistik Değerlerini Kontrol Edelim"
   ]
  },
  {
   "cell_type": "code",
   "execution_count": 37,
   "id": "a606a0e5",
   "metadata": {
    "scrolled": true
   },
   "outputs": [
    {
     "data": {
      "text/html": [
       "<div>\n",
       "<style scoped>\n",
       "    .dataframe tbody tr th:only-of-type {\n",
       "        vertical-align: middle;\n",
       "    }\n",
       "\n",
       "    .dataframe tbody tr th {\n",
       "        vertical-align: top;\n",
       "    }\n",
       "\n",
       "    .dataframe thead th {\n",
       "        text-align: right;\n",
       "    }\n",
       "</style>\n",
       "<table border=\"1\" class=\"dataframe\">\n",
       "  <thead>\n",
       "    <tr style=\"text-align: right;\">\n",
       "      <th>category</th>\n",
       "      <th>Set</th>\n",
       "    </tr>\n",
       "  </thead>\n",
       "  <tbody>\n",
       "    <tr>\n",
       "      <th>count</th>\n",
       "      <td>50284.00000</td>\n",
       "    </tr>\n",
       "    <tr>\n",
       "      <th>mean</th>\n",
       "      <td>834.34500</td>\n",
       "    </tr>\n",
       "    <tr>\n",
       "      <th>std</th>\n",
       "      <td>283.76035</td>\n",
       "    </tr>\n",
       "    <tr>\n",
       "      <th>min</th>\n",
       "      <td>0.00000</td>\n",
       "    </tr>\n",
       "    <tr>\n",
       "      <th>25%</th>\n",
       "      <td>635.00000</td>\n",
       "    </tr>\n",
       "    <tr>\n",
       "      <th>50%</th>\n",
       "      <td>791.00000</td>\n",
       "    </tr>\n",
       "    <tr>\n",
       "      <th>75%</th>\n",
       "      <td>999.00000</td>\n",
       "    </tr>\n",
       "    <tr>\n",
       "      <th>max</th>\n",
       "      <td>5584.00000</td>\n",
       "    </tr>\n",
       "  </tbody>\n",
       "</table>\n",
       "</div>"
      ],
      "text/plain": [
       "category          Set\n",
       "count     50284.00000\n",
       "mean        834.34500\n",
       "std         283.76035\n",
       "min           0.00000\n",
       "25%         635.00000\n",
       "50%         791.00000\n",
       "75%         999.00000\n",
       "max        5584.00000"
      ]
     },
     "execution_count": 37,
     "metadata": {},
     "output_type": "execute_result"
    }
   ],
   "source": [
    "sorted_values.groupby(\"category\")[\"amount\"].describe().T"
   ]
  },
  {
   "cell_type": "code",
   "execution_count": 38,
   "id": "485b57d9",
   "metadata": {
    "scrolled": true
   },
   "outputs": [
    {
     "data": {
      "text/plain": [
       "<Axes: xlabel='amount'>"
      ]
     },
     "execution_count": 38,
     "metadata": {},
     "output_type": "execute_result"
    },
    {
     "data": {
      "image/png": "[encoded data removed]",
      "text/plain": [
       "<Figure size 640x480 with 1 Axes>"
      ]
     },
     "metadata": {},
     "output_type": "display_data"
    }
   ],
   "source": [
    "sns.boxplot(x=df_amount)"
   ]
  },
  {
   "cell_type": "markdown",
   "id": "0446e04d",
   "metadata": {},
   "source": [
    "### Boxplot grafiğinde görüyoruz ki minimum olarak ilk çeyrekte aykırı değerler yok.  Ben de orta ve son çeyrekteki aykırı değerler üzerinden ilerleyeceğim. O yüzden Q1(percentile(df_amount,25)) kullanmayacağım."
   ]
  },
  {
   "cell_type": "code",
   "execution_count": 39,
   "id": "31f3f3bc",
   "metadata": {},
   "outputs": [
    {
     "data": {
      "text/plain": [
       "660.6312505142793"
      ]
     },
     "execution_count": 39,
     "metadata": {},
     "output_type": "execute_result"
    }
   ],
   "source": [
    "df_amount.mean()"
   ]
  },
  {
   "cell_type": "code",
   "execution_count": 40,
   "id": "a9cb0f60",
   "metadata": {},
   "outputs": [
    {
     "data": {
      "text/plain": [
       "635.0"
      ]
     },
     "execution_count": 40,
     "metadata": {},
     "output_type": "execute_result"
    }
   ],
   "source": [
    "q2 = np.percentile(df_amount, 50)\n",
    "q2"
   ]
  },
  {
   "cell_type": "code",
   "execution_count": 41,
   "id": "634e0b60",
   "metadata": {},
   "outputs": [
    {
     "data": {
      "text/plain": [
       "835.0"
      ]
     },
     "execution_count": 41,
     "metadata": {},
     "output_type": "execute_result"
    }
   ],
   "source": [
    "q3=np.percentile(df_amount, 75)\n",
    "q3"
   ]
  },
  {
   "cell_type": "code",
   "execution_count": 42,
   "id": "14179740",
   "metadata": {},
   "outputs": [
    {
     "data": {
      "text/plain": [
       "200.0"
      ]
     },
     "execution_count": 42,
     "metadata": {},
     "output_type": "execute_result"
    }
   ],
   "source": [
    "ıqr=q3-q2\n",
    "ıqr"
   ]
  },
  {
   "cell_type": "code",
   "execution_count": 43,
   "id": "c754187a",
   "metadata": {},
   "outputs": [
    {
     "data": {
      "text/plain": [
       "1435.0"
      ]
     },
     "execution_count": 43,
     "metadata": {},
     "output_type": "execute_result"
    }
   ],
   "source": [
    "aykiri_Ustsinir=q3+(3*ıqr)\n",
    "aykiri_Ustsinir"
   ]
  },
  {
   "cell_type": "code",
   "execution_count": 44,
   "id": "2582b403",
   "metadata": {},
   "outputs": [
    {
     "data": {
      "text/plain": [
       "0         False\n",
       "1         False\n",
       "2         False\n",
       "3         False\n",
       "4         False\n",
       "          ...  \n",
       "128970    False\n",
       "128971    False\n",
       "128972    False\n",
       "128973    False\n",
       "128974    False\n",
       "Name: amount, Length: 128975, dtype: bool"
      ]
     },
     "execution_count": 44,
     "metadata": {},
     "output_type": "execute_result"
    }
   ],
   "source": [
    "(df_amount > aykiri_Ustsinir)"
   ]
  },
  {
   "cell_type": "code",
   "execution_count": 45,
   "id": "06aa929e",
   "metadata": {},
   "outputs": [],
   "source": [
    "aykiri_trufal = (df_amount > aykiri_Ustsinir)"
   ]
  },
  {
   "cell_type": "code",
   "execution_count": 46,
   "id": "42116805",
   "metadata": {},
   "outputs": [
    {
     "data": {
      "text/plain": [
       "0    False\n",
       "1    False\n",
       "2    False\n",
       "3    False\n",
       "4    False\n",
       "Name: amount, dtype: bool"
      ]
     },
     "execution_count": 46,
     "metadata": {},
     "output_type": "execute_result"
    }
   ],
   "source": [
    "aykiri_trufal.head()"
   ]
  },
  {
   "cell_type": "code",
   "execution_count": 47,
   "id": "75c5bdd2",
   "metadata": {},
   "outputs": [
    {
     "data": {
      "text/plain": [
       "265       2130.00\n",
       "299       1463.00\n",
       "324       1902.86\n",
       "349       1999.00\n",
       "398       1463.00\n",
       "           ...   \n",
       "128463    1473.00\n",
       "128665    1477.00\n",
       "128757    1442.00\n",
       "128777    1442.00\n",
       "128873    1523.00\n",
       "Name: amount, Length: 1385, dtype: float64"
      ]
     },
     "execution_count": 47,
     "metadata": {},
     "output_type": "execute_result"
    }
   ],
   "source": [
    "df_amount[aykiri_trufal]#görüyoruzki 128bin satırdan sadece 1385 yüksek aykırı değer."
   ]
  },
  {
   "cell_type": "markdown",
   "id": "93b09198",
   "metadata": {},
   "source": [
    "### Şimdi yaptığımız bu sınırlamanın sağlamasını yapacağız."
   ]
  },
  {
   "cell_type": "code",
   "execution_count": 48,
   "id": "5e85d493",
   "metadata": {},
   "outputs": [
    {
     "data": {
      "text/plain": [
       "1385"
      ]
     },
     "execution_count": 48,
     "metadata": {},
     "output_type": "execute_result"
    }
   ],
   "source": [
    "yuksekDeger = df[(df['amount'] >= 1435) & (df['amount'] <= 5600)]['amount'].count()\n",
    "yuksekDeger"
   ]
  },
  {
   "cell_type": "code",
   "execution_count": 49,
   "id": "5c1dc6c4",
   "metadata": {},
   "outputs": [
    {
     "data": {
      "text/plain": [
       "127590"
      ]
     },
     "execution_count": 49,
     "metadata": {},
     "output_type": "execute_result"
    }
   ],
   "source": [
    "dusukDeger=df[(df['amount'] <= 1435) & (df['amount'] >= 0)]['amount'].count()\n",
    "dusukDeger"
   ]
  },
  {
   "cell_type": "code",
   "execution_count": 50,
   "id": "e50fc4b3",
   "metadata": {},
   "outputs": [
    {
     "data": {
      "text/plain": [
       "(128975, 23)"
      ]
     },
     "execution_count": 50,
     "metadata": {},
     "output_type": "execute_result"
    }
   ],
   "source": [
    "df.shape"
   ]
  },
  {
   "cell_type": "code",
   "execution_count": 51,
   "id": "58a159b1",
   "metadata": {},
   "outputs": [],
   "source": [
    "data = {\n",
    "    'amount_aralığı': ['0-1435', '1435-5000'],\n",
    "    'Veri_Sayısı': [dusukDeger, yuksekDeger]}"
   ]
  },
  {
   "cell_type": "code",
   "execution_count": 52,
   "id": "9eb6de94",
   "metadata": {},
   "outputs": [],
   "source": [
    "df_count = pd.DataFrame(data)"
   ]
  },
  {
   "cell_type": "code",
   "execution_count": 53,
   "id": "fef06bff",
   "metadata": {},
   "outputs": [
    {
     "data": {
      "image/png": "[encoded data removed]",
      "text/plain": [
       "<Figure size 640x480 with 1 Axes>"
      ]
     },
     "metadata": {},
     "output_type": "display_data"
    }
   ],
   "source": [
    "sns.barplot(x='amount_aralığı', y='Veri_Sayısı', data=df_count)\n",
    "plt.xlabel('amount aralığı')\n",
    "plt.ylabel('Veri Sayısı')\n",
    "plt.title('Fiyat Aralıklarına Göre Veri Sayısı')\n",
    "plt.show()"
   ]
  },
  {
   "cell_type": "markdown",
   "id": "f85ccfaa",
   "metadata": {},
   "source": [
    "### Gördüğümüz gibi verinin %99 u 0 birim para ile 1435 birim para arasında. Kalan az kısım ise 1435 ile 5584 arasında."
   ]
  },
  {
   "cell_type": "code",
   "execution_count": 54,
   "id": "0fda4843",
   "metadata": {},
   "outputs": [
    {
     "data": {
      "text/plain": [
       "Int64Index([   265,    299,    324,    349,    398,    416,    647,    734,\n",
       "               753,    803,\n",
       "            ...\n",
       "            128302, 128343, 128402, 128423, 128437, 128463, 128665, 128757,\n",
       "            128777, 128873],\n",
       "           dtype='int64', length=1385)"
      ]
     },
     "execution_count": 54,
     "metadata": {},
     "output_type": "execute_result"
    }
   ],
   "source": [
    "df_amount[aykiri_trufal].index"
   ]
  },
  {
   "cell_type": "markdown",
   "id": "60fe664b",
   "metadata": {},
   "source": [
    "### Aykırı değerlerin sınırlarını, ve boyutunu tespit ettik. Fiyat veri seti oluğu için ve boxplot grafiğinin gösterdiği şeklide sadece üst sınır belirledik. Fakat bir fiyat verisi olduğundan ürünlerde farklı fiyatlandırmaların olabilitesi var. Ve incelediğimde birden en max değeri çıkmadığını, 3000,4000 ve 5400 gibi yaklaşarak çıktığını gözlemledim. dropna veya fillna ile komple bu aykırı değerlerden  kurtulabiliriz ya da ortalama ile değiştirebiliriz. Ama ben işletme için kıymetli olduğunu düşündüğümden ve çok fazla olmadığı için herhnagi bir işlem yapmayacağım."
   ]
  },
  {
   "cell_type": "code",
   "execution_count": 55,
   "id": "dfb306d0",
   "metadata": {},
   "outputs": [
    {
     "data": {
      "text/html": [
       "<div>\n",
       "<style scoped>\n",
       "    .dataframe tbody tr th:only-of-type {\n",
       "        vertical-align: middle;\n",
       "    }\n",
       "\n",
       "    .dataframe tbody tr th {\n",
       "        vertical-align: top;\n",
       "    }\n",
       "\n",
       "    .dataframe thead th {\n",
       "        text-align: right;\n",
       "    }\n",
       "</style>\n",
       "<table border=\"1\" class=\"dataframe\">\n",
       "  <thead>\n",
       "    <tr style=\"text-align: right;\">\n",
       "      <th></th>\n",
       "      <th>index</th>\n",
       "      <th>order id</th>\n",
       "      <th>date</th>\n",
       "      <th>status</th>\n",
       "      <th>fulfilment</th>\n",
       "      <th>sales channel</th>\n",
       "      <th>ship_service_level</th>\n",
       "      <th>style</th>\n",
       "      <th>sku</th>\n",
       "      <th>category</th>\n",
       "      <th>...</th>\n",
       "      <th>qty</th>\n",
       "      <th>currency</th>\n",
       "      <th>amount</th>\n",
       "      <th>ship_city</th>\n",
       "      <th>ship_state</th>\n",
       "      <th>ship_postal_code</th>\n",
       "      <th>ship_country</th>\n",
       "      <th>promotion_ids</th>\n",
       "      <th>b2b</th>\n",
       "      <th>fulfilled_by</th>\n",
       "    </tr>\n",
       "  </thead>\n",
       "  <tbody>\n",
       "    <tr>\n",
       "      <th>0</th>\n",
       "      <td>0</td>\n",
       "      <td>405-8078784-5731545</td>\n",
       "      <td>2022-04-30</td>\n",
       "      <td>Cancelled</td>\n",
       "      <td>Merchant</td>\n",
       "      <td>Amazon.in</td>\n",
       "      <td>Standard</td>\n",
       "      <td>SET389</td>\n",
       "      <td>SET389-KR-NP-S</td>\n",
       "      <td>Set</td>\n",
       "      <td>...</td>\n",
       "      <td>0</td>\n",
       "      <td>INR</td>\n",
       "      <td>647.62</td>\n",
       "      <td>MUMBAI</td>\n",
       "      <td>MAHARASHTRA</td>\n",
       "      <td>400081.0</td>\n",
       "      <td>IN</td>\n",
       "      <td>No Promotion</td>\n",
       "      <td>False</td>\n",
       "      <td>Easy Ship</td>\n",
       "    </tr>\n",
       "    <tr>\n",
       "      <th>1</th>\n",
       "      <td>1</td>\n",
       "      <td>171-9198151-1101146</td>\n",
       "      <td>2022-04-30</td>\n",
       "      <td>Shipped - Delivered to Buyer</td>\n",
       "      <td>Merchant</td>\n",
       "      <td>Amazon.in</td>\n",
       "      <td>Standard</td>\n",
       "      <td>JNE3781</td>\n",
       "      <td>JNE3781-KR-XXXL</td>\n",
       "      <td>kurta</td>\n",
       "      <td>...</td>\n",
       "      <td>1</td>\n",
       "      <td>INR</td>\n",
       "      <td>406.00</td>\n",
       "      <td>BENGALURU</td>\n",
       "      <td>KARNATAKA</td>\n",
       "      <td>560085.0</td>\n",
       "      <td>IN</td>\n",
       "      <td>Amazon PLCC Free-Financing Universal Merchant ...</td>\n",
       "      <td>False</td>\n",
       "      <td>Easy Ship</td>\n",
       "    </tr>\n",
       "    <tr>\n",
       "      <th>2</th>\n",
       "      <td>2</td>\n",
       "      <td>404-0687676-7273146</td>\n",
       "      <td>2022-04-30</td>\n",
       "      <td>Shipped</td>\n",
       "      <td>Amazon</td>\n",
       "      <td>Amazon.in</td>\n",
       "      <td>Expedited</td>\n",
       "      <td>JNE3371</td>\n",
       "      <td>JNE3371-KR-XL</td>\n",
       "      <td>kurta</td>\n",
       "      <td>...</td>\n",
       "      <td>1</td>\n",
       "      <td>INR</td>\n",
       "      <td>329.00</td>\n",
       "      <td>NAVI MUMBAI</td>\n",
       "      <td>MAHARASHTRA</td>\n",
       "      <td>410210.0</td>\n",
       "      <td>IN</td>\n",
       "      <td>IN Core Free Shipping 2015/04/08 23-48-5-108</td>\n",
       "      <td>True</td>\n",
       "      <td>Normal Ship</td>\n",
       "    </tr>\n",
       "    <tr>\n",
       "      <th>3</th>\n",
       "      <td>3</td>\n",
       "      <td>403-9615377-8133951</td>\n",
       "      <td>2022-04-30</td>\n",
       "      <td>Cancelled</td>\n",
       "      <td>Merchant</td>\n",
       "      <td>Amazon.in</td>\n",
       "      <td>Standard</td>\n",
       "      <td>J0341</td>\n",
       "      <td>J0341-DR-L</td>\n",
       "      <td>Western Dress</td>\n",
       "      <td>...</td>\n",
       "      <td>0</td>\n",
       "      <td>INR</td>\n",
       "      <td>753.33</td>\n",
       "      <td>PUDUCHERRY</td>\n",
       "      <td>PUDUCHERRY</td>\n",
       "      <td>605008.0</td>\n",
       "      <td>IN</td>\n",
       "      <td>No Promotion</td>\n",
       "      <td>False</td>\n",
       "      <td>Easy Ship</td>\n",
       "    </tr>\n",
       "    <tr>\n",
       "      <th>4</th>\n",
       "      <td>4</td>\n",
       "      <td>407-1069790-7240320</td>\n",
       "      <td>2022-04-30</td>\n",
       "      <td>Shipped</td>\n",
       "      <td>Amazon</td>\n",
       "      <td>Amazon.in</td>\n",
       "      <td>Expedited</td>\n",
       "      <td>JNE3671</td>\n",
       "      <td>JNE3671-TU-XXXL</td>\n",
       "      <td>Top</td>\n",
       "      <td>...</td>\n",
       "      <td>1</td>\n",
       "      <td>INR</td>\n",
       "      <td>574.00</td>\n",
       "      <td>CHENNAI</td>\n",
       "      <td>TAMIL NADU</td>\n",
       "      <td>600073.0</td>\n",
       "      <td>IN</td>\n",
       "      <td>No Promotion</td>\n",
       "      <td>False</td>\n",
       "      <td>Normal Ship</td>\n",
       "    </tr>\n",
       "  </tbody>\n",
       "</table>\n",
       "<p>5 rows × 23 columns</p>\n",
       "</div>"
      ],
      "text/plain": [
       "   index             order id        date                        status  \\\n",
       "0      0  405-8078784-5731545  2022-04-30                     Cancelled   \n",
       "1      1  171-9198151-1101146  2022-04-30  Shipped - Delivered to Buyer   \n",
       "2      2  404-0687676-7273146  2022-04-30                       Shipped   \n",
       "3      3  403-9615377-8133951  2022-04-30                     Cancelled   \n",
       "4      4  407-1069790-7240320  2022-04-30                       Shipped   \n",
       "\n",
       "  fulfilment sales channel ship_service_level    style              sku  \\\n",
       "0   Merchant     Amazon.in           Standard   SET389   SET389-KR-NP-S   \n",
       "1   Merchant     Amazon.in           Standard  JNE3781  JNE3781-KR-XXXL   \n",
       "2     Amazon     Amazon.in          Expedited  JNE3371    JNE3371-KR-XL   \n",
       "3   Merchant     Amazon.in           Standard    J0341       J0341-DR-L   \n",
       "4     Amazon     Amazon.in          Expedited  JNE3671  JNE3671-TU-XXXL   \n",
       "\n",
       "        category  ... qty currency  amount    ship_city   ship_state  \\\n",
       "0            Set  ...   0      INR  647.62       MUMBAI  MAHARASHTRA   \n",
       "1          kurta  ...   1      INR  406.00    BENGALURU    KARNATAKA   \n",
       "2          kurta  ...   1      INR  329.00  NAVI MUMBAI  MAHARASHTRA   \n",
       "3  Western Dress  ...   0      INR  753.33   PUDUCHERRY   PUDUCHERRY   \n",
       "4            Top  ...   1      INR  574.00      CHENNAI   TAMIL NADU   \n",
       "\n",
       "   ship_postal_code ship_country  \\\n",
       "0          400081.0           IN   \n",
       "1          560085.0           IN   \n",
       "2          410210.0           IN   \n",
       "3          605008.0           IN   \n",
       "4          600073.0           IN   \n",
       "\n",
       "                                       promotion_ids    b2b fulfilled_by  \n",
       "0                                       No Promotion  False    Easy Ship  \n",
       "1  Amazon PLCC Free-Financing Universal Merchant ...  False    Easy Ship  \n",
       "2       IN Core Free Shipping 2015/04/08 23-48-5-108   True  Normal Ship  \n",
       "3                                       No Promotion  False    Easy Ship  \n",
       "4                                       No Promotion  False  Normal Ship  \n",
       "\n",
       "[5 rows x 23 columns]"
      ]
     },
     "execution_count": 55,
     "metadata": {},
     "output_type": "execute_result"
    }
   ],
   "source": [
    "df.head()"
   ]
  },
  {
   "cell_type": "markdown",
   "id": "361a9c41",
   "metadata": {},
   "source": [
    "## Şimdi Verimiz Tertemiz Oldu! Eğer Bu Veriyi Makine Öğrenmesi Algoritmalarında Kullanacaksak Verileri Sayısallaştırmamız Daha İyi Olur"
   ]
  },
  {
   "cell_type": "markdown",
   "id": "2adb2009",
   "metadata": {},
   "source": [
    "## SAYISALLAŞTIRMA"
   ]
  },
  {
   "cell_type": "code",
   "execution_count": 56,
   "id": "68bbf5b6",
   "metadata": {},
   "outputs": [],
   "source": [
    "from sklearn import preprocessing"
   ]
  },
  {
   "cell_type": "code",
   "execution_count": 57,
   "id": "81894571",
   "metadata": {},
   "outputs": [],
   "source": [
    "label_encoder=preprocessing.LabelEncoder()"
   ]
  },
  {
   "cell_type": "code",
   "execution_count": 58,
   "id": "52dc1568",
   "metadata": {},
   "outputs": [],
   "source": [
    "df['order id'] = label_encoder.fit_transform(df['order id'])\n",
    "df['status'] = label_encoder.fit_transform(df['status'])\n",
    "df['fulfilment'] = label_encoder.fit_transform(df['fulfilment'])\n",
    "df['sales channel'] = label_encoder.fit_transform(df['sales channel'])\n",
    "df['ship_service_level'] = label_encoder.fit_transform(df['ship_service_level'])\n",
    "df['style'] = label_encoder.fit_transform(df['style'])\n",
    "df['sku'] = label_encoder.fit_transform(df['sku'])\n",
    "df['category'] = label_encoder.fit_transform(df['category'])\n",
    "df['currency'] = label_encoder.fit_transform(df['currency'])\n",
    "df['size'] = label_encoder.fit_transform(df['size'])\n",
    "df['asin'] = label_encoder.fit_transform(df['asin'])\n",
    "df['courier status'] = label_encoder.fit_transform(df['courier status'])\n",
    "df['ship_city'] = label_encoder.fit_transform(df['ship_city'])\n",
    "df['ship_state'] = label_encoder.fit_transform(df['ship_state'])\n",
    "df['ship_postal_code'] = label_encoder.fit_transform(df['ship_postal_code'])\n",
    "df['ship_country'] = label_encoder.fit_transform(df['ship_country'])\n",
    "df['promotion_ids'] = label_encoder.fit_transform(df['b2b'])\n",
    "df['b2b'] = label_encoder.fit_transform(df['promotion_ids'])\n",
    "df['fulfilled_by'] = label_encoder.fit_transform(df['fulfilled_by'])"
   ]
  },
  {
   "cell_type": "code",
   "execution_count": 59,
   "id": "e06cf6f3",
   "metadata": {},
   "outputs": [],
   "source": [
    "df = df.drop(columns=['date'])# Zaman serili bir makine öğrenmesi uygulaması yapmayacağımız için bu sütunu kaldıracağız."
   ]
  },
  {
   "cell_type": "code",
   "execution_count": 60,
   "id": "a556dce3",
   "metadata": {},
   "outputs": [
    {
     "data": {
      "text/html": [
       "<div>\n",
       "<style scoped>\n",
       "    .dataframe tbody tr th:only-of-type {\n",
       "        vertical-align: middle;\n",
       "    }\n",
       "\n",
       "    .dataframe tbody tr th {\n",
       "        vertical-align: top;\n",
       "    }\n",
       "\n",
       "    .dataframe thead th {\n",
       "        text-align: right;\n",
       "    }\n",
       "</style>\n",
       "<table border=\"1\" class=\"dataframe\">\n",
       "  <thead>\n",
       "    <tr style=\"text-align: right;\">\n",
       "      <th></th>\n",
       "      <th>index</th>\n",
       "      <th>order id</th>\n",
       "      <th>status</th>\n",
       "      <th>fulfilment</th>\n",
       "      <th>sales channel</th>\n",
       "      <th>ship_service_level</th>\n",
       "      <th>style</th>\n",
       "      <th>sku</th>\n",
       "      <th>category</th>\n",
       "      <th>size</th>\n",
       "      <th>...</th>\n",
       "      <th>qty</th>\n",
       "      <th>currency</th>\n",
       "      <th>amount</th>\n",
       "      <th>ship_city</th>\n",
       "      <th>ship_state</th>\n",
       "      <th>ship_postal_code</th>\n",
       "      <th>ship_country</th>\n",
       "      <th>promotion_ids</th>\n",
       "      <th>b2b</th>\n",
       "      <th>fulfilled_by</th>\n",
       "    </tr>\n",
       "  </thead>\n",
       "  <tbody>\n",
       "    <tr>\n",
       "      <th>IsNull</th>\n",
       "      <td>0.0</td>\n",
       "      <td>0.0</td>\n",
       "      <td>0.0</td>\n",
       "      <td>0.0</td>\n",
       "      <td>0.0</td>\n",
       "      <td>0.0</td>\n",
       "      <td>0.0</td>\n",
       "      <td>0.0</td>\n",
       "      <td>0.0</td>\n",
       "      <td>0.0</td>\n",
       "      <td>...</td>\n",
       "      <td>0.0</td>\n",
       "      <td>0.0</td>\n",
       "      <td>0.0</td>\n",
       "      <td>0.0</td>\n",
       "      <td>0.0</td>\n",
       "      <td>0.0</td>\n",
       "      <td>0.0</td>\n",
       "      <td>0.0</td>\n",
       "      <td>0.0</td>\n",
       "      <td>0.0</td>\n",
       "    </tr>\n",
       "    <tr>\n",
       "      <th>IsNa</th>\n",
       "      <td>0.0</td>\n",
       "      <td>0.0</td>\n",
       "      <td>0.0</td>\n",
       "      <td>0.0</td>\n",
       "      <td>0.0</td>\n",
       "      <td>0.0</td>\n",
       "      <td>0.0</td>\n",
       "      <td>0.0</td>\n",
       "      <td>0.0</td>\n",
       "      <td>0.0</td>\n",
       "      <td>...</td>\n",
       "      <td>0.0</td>\n",
       "      <td>0.0</td>\n",
       "      <td>0.0</td>\n",
       "      <td>0.0</td>\n",
       "      <td>0.0</td>\n",
       "      <td>0.0</td>\n",
       "      <td>0.0</td>\n",
       "      <td>0.0</td>\n",
       "      <td>0.0</td>\n",
       "      <td>0.0</td>\n",
       "    </tr>\n",
       "    <tr>\n",
       "      <th>Duplicate</th>\n",
       "      <td>0.0</td>\n",
       "      <td>0.0</td>\n",
       "      <td>0.0</td>\n",
       "      <td>0.0</td>\n",
       "      <td>0.0</td>\n",
       "      <td>0.0</td>\n",
       "      <td>0.0</td>\n",
       "      <td>0.0</td>\n",
       "      <td>0.0</td>\n",
       "      <td>0.0</td>\n",
       "      <td>...</td>\n",
       "      <td>0.0</td>\n",
       "      <td>0.0</td>\n",
       "      <td>0.0</td>\n",
       "      <td>0.0</td>\n",
       "      <td>0.0</td>\n",
       "      <td>0.0</td>\n",
       "      <td>0.0</td>\n",
       "      <td>0.0</td>\n",
       "      <td>0.0</td>\n",
       "      <td>0.0</td>\n",
       "    </tr>\n",
       "    <tr>\n",
       "      <th>Unique</th>\n",
       "      <td>128975.0</td>\n",
       "      <td>120378.0</td>\n",
       "      <td>13.0</td>\n",
       "      <td>2.0</td>\n",
       "      <td>2.0</td>\n",
       "      <td>2.0</td>\n",
       "      <td>1377.0</td>\n",
       "      <td>7195.0</td>\n",
       "      <td>9.0</td>\n",
       "      <td>11.0</td>\n",
       "      <td>...</td>\n",
       "      <td>10.0</td>\n",
       "      <td>2.0</td>\n",
       "      <td>1411.0</td>\n",
       "      <td>8956.0</td>\n",
       "      <td>70.0</td>\n",
       "      <td>9460.0</td>\n",
       "      <td>2.0</td>\n",
       "      <td>2.0</td>\n",
       "      <td>2.0</td>\n",
       "      <td>2.0</td>\n",
       "    </tr>\n",
       "    <tr>\n",
       "      <th>Min</th>\n",
       "      <td>0.0</td>\n",
       "      <td>0.0</td>\n",
       "      <td>0.0</td>\n",
       "      <td>0.0</td>\n",
       "      <td>0.0</td>\n",
       "      <td>0.0</td>\n",
       "      <td>0.0</td>\n",
       "      <td>0.0</td>\n",
       "      <td>0.0</td>\n",
       "      <td>0.0</td>\n",
       "      <td>...</td>\n",
       "      <td>0.0</td>\n",
       "      <td>0.0</td>\n",
       "      <td>0.0</td>\n",
       "      <td>0.0</td>\n",
       "      <td>0.0</td>\n",
       "      <td>0.0</td>\n",
       "      <td>0.0</td>\n",
       "      <td>0.0</td>\n",
       "      <td>0.0</td>\n",
       "      <td>0.0</td>\n",
       "    </tr>\n",
       "    <tr>\n",
       "      <th>Max</th>\n",
       "      <td>128974.0</td>\n",
       "      <td>120377.0</td>\n",
       "      <td>12.0</td>\n",
       "      <td>1.0</td>\n",
       "      <td>1.0</td>\n",
       "      <td>1.0</td>\n",
       "      <td>1376.0</td>\n",
       "      <td>7194.0</td>\n",
       "      <td>8.0</td>\n",
       "      <td>10.0</td>\n",
       "      <td>...</td>\n",
       "      <td>15.0</td>\n",
       "      <td>1.0</td>\n",
       "      <td>5584.0</td>\n",
       "      <td>8955.0</td>\n",
       "      <td>69.0</td>\n",
       "      <td>9459.0</td>\n",
       "      <td>1.0</td>\n",
       "      <td>1.0</td>\n",
       "      <td>1.0</td>\n",
       "      <td>1.0</td>\n",
       "    </tr>\n",
       "  </tbody>\n",
       "</table>\n",
       "<p>6 rows × 22 columns</p>\n",
       "</div>"
      ],
      "text/plain": [
       "              index  order id  status  fulfilment  sales channel  \\\n",
       "IsNull          0.0       0.0     0.0         0.0            0.0   \n",
       "IsNa            0.0       0.0     0.0         0.0            0.0   \n",
       "Duplicate       0.0       0.0     0.0         0.0            0.0   \n",
       "Unique     128975.0  120378.0    13.0         2.0            2.0   \n",
       "Min             0.0       0.0     0.0         0.0            0.0   \n",
       "Max        128974.0  120377.0    12.0         1.0            1.0   \n",
       "\n",
       "           ship_service_level   style     sku  category  size  ...   qty  \\\n",
       "IsNull                    0.0     0.0     0.0       0.0   0.0  ...   0.0   \n",
       "IsNa                      0.0     0.0     0.0       0.0   0.0  ...   0.0   \n",
       "Duplicate                 0.0     0.0     0.0       0.0   0.0  ...   0.0   \n",
       "Unique                    2.0  1377.0  7195.0       9.0  11.0  ...  10.0   \n",
       "Min                       0.0     0.0     0.0       0.0   0.0  ...   0.0   \n",
       "Max                       1.0  1376.0  7194.0       8.0  10.0  ...  15.0   \n",
       "\n",
       "           currency  amount  ship_city  ship_state  ship_postal_code  \\\n",
       "IsNull          0.0     0.0        0.0         0.0               0.0   \n",
       "IsNa            0.0     0.0        0.0         0.0               0.0   \n",
       "Duplicate       0.0     0.0        0.0         0.0               0.0   \n",
       "Unique          2.0  1411.0     8956.0        70.0            9460.0   \n",
       "Min             0.0     0.0        0.0         0.0               0.0   \n",
       "Max             1.0  5584.0     8955.0        69.0            9459.0   \n",
       "\n",
       "           ship_country  promotion_ids  b2b  fulfilled_by  \n",
       "IsNull              0.0            0.0  0.0           0.0  \n",
       "IsNa                0.0            0.0  0.0           0.0  \n",
       "Duplicate           0.0            0.0  0.0           0.0  \n",
       "Unique              2.0            2.0  2.0           2.0  \n",
       "Min                 0.0            0.0  0.0           0.0  \n",
       "Max                 1.0            1.0  1.0           1.0  \n",
       "\n",
       "[6 rows x 22 columns]"
      ]
     },
     "execution_count": 60,
     "metadata": {},
     "output_type": "execute_result"
    }
   ],
   "source": [
    "info = pd.DataFrame(df.isnull().sum(),columns=[\"IsNull\"])\n",
    "info.insert(1,\"IsNa\",df.isna().sum(),True)\n",
    "info.insert(2,\"Duplicate\",df.duplicated().sum(),True)\n",
    "info.insert(3,\"Unique\",df.nunique(),True)\n",
    "info.insert(4,\"Min\",df.min(),True)\n",
    "info.insert(5,\"Max\",df.max(),True)\n",
    "info.T  "
   ]
  },
  {
   "cell_type": "code",
   "execution_count": 61,
   "id": "327bbaa9",
   "metadata": {
    "scrolled": true
   },
   "outputs": [
    {
     "data": {
      "text/html": [
       "<div>\n",
       "<style scoped>\n",
       "    .dataframe tbody tr th:only-of-type {\n",
       "        vertical-align: middle;\n",
       "    }\n",
       "\n",
       "    .dataframe tbody tr th {\n",
       "        vertical-align: top;\n",
       "    }\n",
       "\n",
       "    .dataframe thead th {\n",
       "        text-align: right;\n",
       "    }\n",
       "</style>\n",
       "<table border=\"1\" class=\"dataframe\">\n",
       "  <thead>\n",
       "    <tr style=\"text-align: right;\">\n",
       "      <th></th>\n",
       "      <th>index</th>\n",
       "      <th>order id</th>\n",
       "      <th>status</th>\n",
       "      <th>fulfilment</th>\n",
       "      <th>sales channel</th>\n",
       "      <th>ship_service_level</th>\n",
       "      <th>style</th>\n",
       "      <th>sku</th>\n",
       "      <th>category</th>\n",
       "      <th>size</th>\n",
       "      <th>...</th>\n",
       "      <th>qty</th>\n",
       "      <th>currency</th>\n",
       "      <th>amount</th>\n",
       "      <th>ship_city</th>\n",
       "      <th>ship_state</th>\n",
       "      <th>ship_postal_code</th>\n",
       "      <th>ship_country</th>\n",
       "      <th>promotion_ids</th>\n",
       "      <th>b2b</th>\n",
       "      <th>fulfilled_by</th>\n",
       "    </tr>\n",
       "  </thead>\n",
       "  <tbody>\n",
       "    <tr>\n",
       "      <th>0</th>\n",
       "      <td>0</td>\n",
       "      <td>70508</td>\n",
       "      <td>0</td>\n",
       "      <td>1</td>\n",
       "      <td>0</td>\n",
       "      <td>1</td>\n",
       "      <td>1342</td>\n",
       "      <td>6992</td>\n",
       "      <td>5</td>\n",
       "      <td>7</td>\n",
       "      <td>...</td>\n",
       "      <td>0</td>\n",
       "      <td>0</td>\n",
       "      <td>647.62</td>\n",
       "      <td>4795</td>\n",
       "      <td>28</td>\n",
       "      <td>2477</td>\n",
       "      <td>0</td>\n",
       "      <td>0</td>\n",
       "      <td>0</td>\n",
       "      <td>0</td>\n",
       "    </tr>\n",
       "    <tr>\n",
       "      <th>1</th>\n",
       "      <td>1</td>\n",
       "      <td>13615</td>\n",
       "      <td>5</td>\n",
       "      <td>1</td>\n",
       "      <td>0</td>\n",
       "      <td>1</td>\n",
       "      <td>847</td>\n",
       "      <td>4436</td>\n",
       "      <td>8</td>\n",
       "      <td>0</td>\n",
       "      <td>...</td>\n",
       "      <td>1</td>\n",
       "      <td>0</td>\n",
       "      <td>406.00</td>\n",
       "      <td>776</td>\n",
       "      <td>23</td>\n",
       "      <td>4857</td>\n",
       "      <td>0</td>\n",
       "      <td>0</td>\n",
       "      <td>0</td>\n",
       "      <td>0</td>\n",
       "    </tr>\n",
       "    <tr>\n",
       "      <th>2</th>\n",
       "      <td>2</td>\n",
       "      <td>45301</td>\n",
       "      <td>3</td>\n",
       "      <td>0</td>\n",
       "      <td>0</td>\n",
       "      <td>0</td>\n",
       "      <td>533</td>\n",
       "      <td>2633</td>\n",
       "      <td>8</td>\n",
       "      <td>8</td>\n",
       "      <td>...</td>\n",
       "      <td>1</td>\n",
       "      <td>0</td>\n",
       "      <td>329.00</td>\n",
       "      <td>5353</td>\n",
       "      <td>28</td>\n",
       "      <td>2671</td>\n",
       "      <td>0</td>\n",
       "      <td>1</td>\n",
       "      <td>1</td>\n",
       "      <td>1</td>\n",
       "    </tr>\n",
       "    <tr>\n",
       "      <th>3</th>\n",
       "      <td>3</td>\n",
       "      <td>43682</td>\n",
       "      <td>0</td>\n",
       "      <td>1</td>\n",
       "      <td>0</td>\n",
       "      <td>1</td>\n",
       "      <td>373</td>\n",
       "      <td>1767</td>\n",
       "      <td>7</td>\n",
       "      <td>5</td>\n",
       "      <td>...</td>\n",
       "      <td>0</td>\n",
       "      <td>0</td>\n",
       "      <td>753.33</td>\n",
       "      <td>6140</td>\n",
       "      <td>43</td>\n",
       "      <td>5659</td>\n",
       "      <td>0</td>\n",
       "      <td>0</td>\n",
       "      <td>0</td>\n",
       "      <td>0</td>\n",
       "    </tr>\n",
       "    <tr>\n",
       "      <th>4</th>\n",
       "      <td>4</td>\n",
       "      <td>90099</td>\n",
       "      <td>3</td>\n",
       "      <td>0</td>\n",
       "      <td>0</td>\n",
       "      <td>0</td>\n",
       "      <td>754</td>\n",
       "      <td>3837</td>\n",
       "      <td>6</td>\n",
       "      <td>0</td>\n",
       "      <td>...</td>\n",
       "      <td>1</td>\n",
       "      <td>0</td>\n",
       "      <td>574.00</td>\n",
       "      <td>1466</td>\n",
       "      <td>56</td>\n",
       "      <td>5549</td>\n",
       "      <td>0</td>\n",
       "      <td>0</td>\n",
       "      <td>0</td>\n",
       "      <td>1</td>\n",
       "    </tr>\n",
       "  </tbody>\n",
       "</table>\n",
       "<p>5 rows × 22 columns</p>\n",
       "</div>"
      ],
      "text/plain": [
       "   index  order id  status  fulfilment  sales channel  ship_service_level  \\\n",
       "0      0     70508       0           1              0                   1   \n",
       "1      1     13615       5           1              0                   1   \n",
       "2      2     45301       3           0              0                   0   \n",
       "3      3     43682       0           1              0                   1   \n",
       "4      4     90099       3           0              0                   0   \n",
       "\n",
       "   style   sku  category  size  ...  qty  currency  amount  ship_city  \\\n",
       "0   1342  6992         5     7  ...    0         0  647.62       4795   \n",
       "1    847  4436         8     0  ...    1         0  406.00        776   \n",
       "2    533  2633         8     8  ...    1         0  329.00       5353   \n",
       "3    373  1767         7     5  ...    0         0  753.33       6140   \n",
       "4    754  3837         6     0  ...    1         0  574.00       1466   \n",
       "\n",
       "   ship_state  ship_postal_code  ship_country  promotion_ids  b2b  \\\n",
       "0          28              2477             0              0    0   \n",
       "1          23              4857             0              0    0   \n",
       "2          28              2671             0              1    1   \n",
       "3          43              5659             0              0    0   \n",
       "4          56              5549             0              0    0   \n",
       "\n",
       "   fulfilled_by  \n",
       "0             0  \n",
       "1             0  \n",
       "2             1  \n",
       "3             0  \n",
       "4             1  \n",
       "\n",
       "[5 rows x 22 columns]"
      ]
     },
     "execution_count": 61,
     "metadata": {},
     "output_type": "execute_result"
    }
   ],
   "source": [
    "df.head()"
   ]
  },
  {
   "cell_type": "code",
   "execution_count": 62,
   "id": "3fb57376",
   "metadata": {},
   "outputs": [
    {
     "data": {
      "image/png": "[encoded data removed]",
      "text/plain": [
       "<Figure size 1800x1300 with 2 Axes>"
      ]
     },
     "metadata": {},
     "output_type": "display_data"
    }
   ],
   "source": [
    "# Correlation matrix ile özelliklerin birbiri ile ilişkisine bakalım\n",
    "f, ax = plt.subplots(figsize=[18, 13])\n",
    "sns.heatmap(df.corr(), annot=True, fmt=\".2f\", ax=ax, cmap=\"magma\")\n",
    "ax.set_title(\"Correlation Matrix\", fontsize=20)\n",
    "plt.show()"
   ]
  },
  {
   "cell_type": "markdown",
   "id": "6f264bc7",
   "metadata": {},
   "source": [
    "* currency-salec channel\n",
    "* b2b promotion ıds\n",
    "* sku-style\n",
    "* ship_service level-fulfillment\n",
    "Bu corelasyonu 1 olan sütun çiftlerinden birer tane sileceğiz.Çünkü aynı çıktıyı veren çok sayıda sütun overfitinge yol açabilir ve doğruluk oranını negatif olarak etkileyebilir."
   ]
  },
  {
   "cell_type": "code",
   "execution_count": 72,
   "id": "3c4302a4",
   "metadata": {},
   "outputs": [
    {
     "data": {
      "text/html": [
       "<div>\n",
       "<style scoped>\n",
       "    .dataframe tbody tr th:only-of-type {\n",
       "        vertical-align: middle;\n",
       "    }\n",
       "\n",
       "    .dataframe tbody tr th {\n",
       "        vertical-align: top;\n",
       "    }\n",
       "\n",
       "    .dataframe thead th {\n",
       "        text-align: right;\n",
       "    }\n",
       "</style>\n",
       "<table border=\"1\" class=\"dataframe\">\n",
       "  <thead>\n",
       "    <tr style=\"text-align: right;\">\n",
       "      <th></th>\n",
       "      <th>sku</th>\n",
       "      <th>style</th>\n",
       "    </tr>\n",
       "  </thead>\n",
       "  <tbody>\n",
       "    <tr>\n",
       "      <th>0</th>\n",
       "      <td>6992</td>\n",
       "      <td>1342</td>\n",
       "    </tr>\n",
       "    <tr>\n",
       "      <th>1</th>\n",
       "      <td>4436</td>\n",
       "      <td>847</td>\n",
       "    </tr>\n",
       "    <tr>\n",
       "      <th>2</th>\n",
       "      <td>2633</td>\n",
       "      <td>533</td>\n",
       "    </tr>\n",
       "    <tr>\n",
       "      <th>3</th>\n",
       "      <td>1767</td>\n",
       "      <td>373</td>\n",
       "    </tr>\n",
       "    <tr>\n",
       "      <th>4</th>\n",
       "      <td>3837</td>\n",
       "      <td>754</td>\n",
       "    </tr>\n",
       "    <tr>\n",
       "      <th>5</th>\n",
       "      <td>6277</td>\n",
       "      <td>1236</td>\n",
       "    </tr>\n",
       "    <tr>\n",
       "      <th>6</th>\n",
       "      <td>668</td>\n",
       "      <td>181</td>\n",
       "    </tr>\n",
       "    <tr>\n",
       "      <th>7</th>\n",
       "      <td>2748</td>\n",
       "      <td>555</td>\n",
       "    </tr>\n",
       "    <tr>\n",
       "      <th>8</th>\n",
       "      <td>5993</td>\n",
       "      <td>1183</td>\n",
       "    </tr>\n",
       "    <tr>\n",
       "      <th>9</th>\n",
       "      <td>3009</td>\n",
       "      <td>602</td>\n",
       "    </tr>\n",
       "    <tr>\n",
       "      <th>10</th>\n",
       "      <td>2392</td>\n",
       "      <td>488</td>\n",
       "    </tr>\n",
       "    <tr>\n",
       "      <th>11</th>\n",
       "      <td>3162</td>\n",
       "      <td>629</td>\n",
       "    </tr>\n",
       "    <tr>\n",
       "      <th>12</th>\n",
       "      <td>2750</td>\n",
       "      <td>555</td>\n",
       "    </tr>\n",
       "    <tr>\n",
       "      <th>13</th>\n",
       "      <td>5888</td>\n",
       "      <td>1167</td>\n",
       "    </tr>\n",
       "    <tr>\n",
       "      <th>14</th>\n",
       "      <td>1832</td>\n",
       "      <td>383</td>\n",
       "    </tr>\n",
       "    <tr>\n",
       "      <th>15</th>\n",
       "      <td>5450</td>\n",
       "      <td>1012</td>\n",
       "    </tr>\n",
       "    <tr>\n",
       "      <th>16</th>\n",
       "      <td>4090</td>\n",
       "      <td>795</td>\n",
       "    </tr>\n",
       "    <tr>\n",
       "      <th>17</th>\n",
       "      <td>2749</td>\n",
       "      <td>555</td>\n",
       "    </tr>\n",
       "    <tr>\n",
       "      <th>18</th>\n",
       "      <td>3954</td>\n",
       "      <td>774</td>\n",
       "    </tr>\n",
       "    <tr>\n",
       "      <th>19</th>\n",
       "      <td>6247</td>\n",
       "      <td>1229</td>\n",
       "    </tr>\n",
       "    <tr>\n",
       "      <th>20</th>\n",
       "      <td>4534</td>\n",
       "      <td>861</td>\n",
       "    </tr>\n",
       "    <tr>\n",
       "      <th>21</th>\n",
       "      <td>6757</td>\n",
       "      <td>1308</td>\n",
       "    </tr>\n",
       "    <tr>\n",
       "      <th>22</th>\n",
       "      <td>2637</td>\n",
       "      <td>534</td>\n",
       "    </tr>\n",
       "    <tr>\n",
       "      <th>23</th>\n",
       "      <td>6444</td>\n",
       "      <td>1261</td>\n",
       "    </tr>\n",
       "    <tr>\n",
       "      <th>24</th>\n",
       "      <td>5033</td>\n",
       "      <td>938</td>\n",
       "    </tr>\n",
       "  </tbody>\n",
       "</table>\n",
       "</div>"
      ],
      "text/plain": [
       "     sku  style\n",
       "0   6992   1342\n",
       "1   4436    847\n",
       "2   2633    533\n",
       "3   1767    373\n",
       "4   3837    754\n",
       "5   6277   1236\n",
       "6    668    181\n",
       "7   2748    555\n",
       "8   5993   1183\n",
       "9   3009    602\n",
       "10  2392    488\n",
       "11  3162    629\n",
       "12  2750    555\n",
       "13  5888   1167\n",
       "14  1832    383\n",
       "15  5450   1012\n",
       "16  4090    795\n",
       "17  2749    555\n",
       "18  3954    774\n",
       "19  6247   1229\n",
       "20  4534    861\n",
       "21  6757   1308\n",
       "22  2637    534\n",
       "23  6444   1261\n",
       "24  5033    938"
      ]
     },
     "execution_count": 72,
     "metadata": {},
     "output_type": "execute_result"
    }
   ],
   "source": [
    "df[[\"sku\",\"style\"]].head(25)#sku silinecek çünkü ürün kodu ile size'ın birleştirilip yazılmış hali."
   ]
  },
  {
   "cell_type": "code",
   "execution_count": 73,
   "id": "8143388e",
   "metadata": {},
   "outputs": [
    {
     "data": {
      "text/html": [
       "<div>\n",
       "<style scoped>\n",
       "    .dataframe tbody tr th:only-of-type {\n",
       "        vertical-align: middle;\n",
       "    }\n",
       "\n",
       "    .dataframe tbody tr th {\n",
       "        vertical-align: top;\n",
       "    }\n",
       "\n",
       "    .dataframe thead th {\n",
       "        text-align: right;\n",
       "    }\n",
       "</style>\n",
       "<table border=\"1\" class=\"dataframe\">\n",
       "  <thead>\n",
       "    <tr style=\"text-align: right;\">\n",
       "      <th></th>\n",
       "      <th>ship_service_level</th>\n",
       "      <th>fulfilment</th>\n",
       "    </tr>\n",
       "  </thead>\n",
       "  <tbody>\n",
       "    <tr>\n",
       "      <th>0</th>\n",
       "      <td>1</td>\n",
       "      <td>1</td>\n",
       "    </tr>\n",
       "    <tr>\n",
       "      <th>1</th>\n",
       "      <td>1</td>\n",
       "      <td>1</td>\n",
       "    </tr>\n",
       "    <tr>\n",
       "      <th>2</th>\n",
       "      <td>0</td>\n",
       "      <td>0</td>\n",
       "    </tr>\n",
       "    <tr>\n",
       "      <th>3</th>\n",
       "      <td>1</td>\n",
       "      <td>1</td>\n",
       "    </tr>\n",
       "    <tr>\n",
       "      <th>4</th>\n",
       "      <td>0</td>\n",
       "      <td>0</td>\n",
       "    </tr>\n",
       "    <tr>\n",
       "      <th>5</th>\n",
       "      <td>0</td>\n",
       "      <td>0</td>\n",
       "    </tr>\n",
       "    <tr>\n",
       "      <th>6</th>\n",
       "      <td>0</td>\n",
       "      <td>0</td>\n",
       "    </tr>\n",
       "    <tr>\n",
       "      <th>7</th>\n",
       "      <td>1</td>\n",
       "      <td>1</td>\n",
       "    </tr>\n",
       "    <tr>\n",
       "      <th>8</th>\n",
       "      <td>0</td>\n",
       "      <td>0</td>\n",
       "    </tr>\n",
       "    <tr>\n",
       "      <th>9</th>\n",
       "      <td>0</td>\n",
       "      <td>0</td>\n",
       "    </tr>\n",
       "    <tr>\n",
       "      <th>10</th>\n",
       "      <td>0</td>\n",
       "      <td>0</td>\n",
       "    </tr>\n",
       "    <tr>\n",
       "      <th>11</th>\n",
       "      <td>0</td>\n",
       "      <td>0</td>\n",
       "    </tr>\n",
       "    <tr>\n",
       "      <th>12</th>\n",
       "      <td>1</td>\n",
       "      <td>1</td>\n",
       "    </tr>\n",
       "    <tr>\n",
       "      <th>13</th>\n",
       "      <td>0</td>\n",
       "      <td>0</td>\n",
       "    </tr>\n",
       "    <tr>\n",
       "      <th>14</th>\n",
       "      <td>1</td>\n",
       "      <td>1</td>\n",
       "    </tr>\n",
       "    <tr>\n",
       "      <th>15</th>\n",
       "      <td>1</td>\n",
       "      <td>1</td>\n",
       "    </tr>\n",
       "    <tr>\n",
       "      <th>16</th>\n",
       "      <td>0</td>\n",
       "      <td>0</td>\n",
       "    </tr>\n",
       "    <tr>\n",
       "      <th>17</th>\n",
       "      <td>0</td>\n",
       "      <td>0</td>\n",
       "    </tr>\n",
       "    <tr>\n",
       "      <th>18</th>\n",
       "      <td>1</td>\n",
       "      <td>1</td>\n",
       "    </tr>\n",
       "    <tr>\n",
       "      <th>19</th>\n",
       "      <td>0</td>\n",
       "      <td>0</td>\n",
       "    </tr>\n",
       "    <tr>\n",
       "      <th>20</th>\n",
       "      <td>0</td>\n",
       "      <td>0</td>\n",
       "    </tr>\n",
       "    <tr>\n",
       "      <th>21</th>\n",
       "      <td>0</td>\n",
       "      <td>0</td>\n",
       "    </tr>\n",
       "    <tr>\n",
       "      <th>22</th>\n",
       "      <td>0</td>\n",
       "      <td>0</td>\n",
       "    </tr>\n",
       "    <tr>\n",
       "      <th>23</th>\n",
       "      <td>1</td>\n",
       "      <td>1</td>\n",
       "    </tr>\n",
       "    <tr>\n",
       "      <th>24</th>\n",
       "      <td>0</td>\n",
       "      <td>0</td>\n",
       "    </tr>\n",
       "  </tbody>\n",
       "</table>\n",
       "</div>"
      ],
      "text/plain": [
       "    ship_service_level  fulfilment\n",
       "0                    1           1\n",
       "1                    1           1\n",
       "2                    0           0\n",
       "3                    1           1\n",
       "4                    0           0\n",
       "5                    0           0\n",
       "6                    0           0\n",
       "7                    1           1\n",
       "8                    0           0\n",
       "9                    0           0\n",
       "10                   0           0\n",
       "11                   0           0\n",
       "12                   1           1\n",
       "13                   0           0\n",
       "14                   1           1\n",
       "15                   1           1\n",
       "16                   0           0\n",
       "17                   0           0\n",
       "18                   1           1\n",
       "19                   0           0\n",
       "20                   0           0\n",
       "21                   0           0\n",
       "22                   0           0\n",
       "23                   1           1\n",
       "24                   0           0"
      ]
     },
     "execution_count": 73,
     "metadata": {},
     "output_type": "execute_result"
    }
   ],
   "source": [
    "df[[\"ship_service_level\",\"fulfilment\"]].head(25)#fulfilment amazon olanlar shpservlevli Exited oluyor, fulfillment marchant olanlar Standart oluyor. Yani aynı şeyi ifade ediyorlar çıktı olarak. Ship service leveli çıkartacağım"
   ]
  },
  {
   "cell_type": "code",
   "execution_count": 74,
   "id": "8062c0ba",
   "metadata": {},
   "outputs": [
    {
     "data": {
      "text/html": [
       "<div>\n",
       "<style scoped>\n",
       "    .dataframe tbody tr th:only-of-type {\n",
       "        vertical-align: middle;\n",
       "    }\n",
       "\n",
       "    .dataframe tbody tr th {\n",
       "        vertical-align: top;\n",
       "    }\n",
       "\n",
       "    .dataframe thead th {\n",
       "        text-align: right;\n",
       "    }\n",
       "</style>\n",
       "<table border=\"1\" class=\"dataframe\">\n",
       "  <thead>\n",
       "    <tr style=\"text-align: right;\">\n",
       "      <th></th>\n",
       "      <th>b2b</th>\n",
       "      <th>promotion_ids</th>\n",
       "    </tr>\n",
       "  </thead>\n",
       "  <tbody>\n",
       "    <tr>\n",
       "      <th>0</th>\n",
       "      <td>0</td>\n",
       "      <td>0</td>\n",
       "    </tr>\n",
       "    <tr>\n",
       "      <th>1</th>\n",
       "      <td>0</td>\n",
       "      <td>0</td>\n",
       "    </tr>\n",
       "    <tr>\n",
       "      <th>2</th>\n",
       "      <td>1</td>\n",
       "      <td>1</td>\n",
       "    </tr>\n",
       "    <tr>\n",
       "      <th>3</th>\n",
       "      <td>0</td>\n",
       "      <td>0</td>\n",
       "    </tr>\n",
       "    <tr>\n",
       "      <th>4</th>\n",
       "      <td>0</td>\n",
       "      <td>0</td>\n",
       "    </tr>\n",
       "    <tr>\n",
       "      <th>5</th>\n",
       "      <td>0</td>\n",
       "      <td>0</td>\n",
       "    </tr>\n",
       "    <tr>\n",
       "      <th>6</th>\n",
       "      <td>0</td>\n",
       "      <td>0</td>\n",
       "    </tr>\n",
       "    <tr>\n",
       "      <th>7</th>\n",
       "      <td>0</td>\n",
       "      <td>0</td>\n",
       "    </tr>\n",
       "    <tr>\n",
       "      <th>8</th>\n",
       "      <td>0</td>\n",
       "      <td>0</td>\n",
       "    </tr>\n",
       "    <tr>\n",
       "      <th>9</th>\n",
       "      <td>0</td>\n",
       "      <td>0</td>\n",
       "    </tr>\n",
       "    <tr>\n",
       "      <th>10</th>\n",
       "      <td>0</td>\n",
       "      <td>0</td>\n",
       "    </tr>\n",
       "    <tr>\n",
       "      <th>11</th>\n",
       "      <td>0</td>\n",
       "      <td>0</td>\n",
       "    </tr>\n",
       "    <tr>\n",
       "      <th>12</th>\n",
       "      <td>0</td>\n",
       "      <td>0</td>\n",
       "    </tr>\n",
       "    <tr>\n",
       "      <th>13</th>\n",
       "      <td>0</td>\n",
       "      <td>0</td>\n",
       "    </tr>\n",
       "    <tr>\n",
       "      <th>14</th>\n",
       "      <td>0</td>\n",
       "      <td>0</td>\n",
       "    </tr>\n",
       "    <tr>\n",
       "      <th>15</th>\n",
       "      <td>0</td>\n",
       "      <td>0</td>\n",
       "    </tr>\n",
       "    <tr>\n",
       "      <th>16</th>\n",
       "      <td>0</td>\n",
       "      <td>0</td>\n",
       "    </tr>\n",
       "    <tr>\n",
       "      <th>17</th>\n",
       "      <td>0</td>\n",
       "      <td>0</td>\n",
       "    </tr>\n",
       "    <tr>\n",
       "      <th>18</th>\n",
       "      <td>0</td>\n",
       "      <td>0</td>\n",
       "    </tr>\n",
       "    <tr>\n",
       "      <th>19</th>\n",
       "      <td>0</td>\n",
       "      <td>0</td>\n",
       "    </tr>\n",
       "    <tr>\n",
       "      <th>20</th>\n",
       "      <td>0</td>\n",
       "      <td>0</td>\n",
       "    </tr>\n",
       "    <tr>\n",
       "      <th>21</th>\n",
       "      <td>0</td>\n",
       "      <td>0</td>\n",
       "    </tr>\n",
       "    <tr>\n",
       "      <th>22</th>\n",
       "      <td>0</td>\n",
       "      <td>0</td>\n",
       "    </tr>\n",
       "    <tr>\n",
       "      <th>23</th>\n",
       "      <td>0</td>\n",
       "      <td>0</td>\n",
       "    </tr>\n",
       "    <tr>\n",
       "      <th>24</th>\n",
       "      <td>0</td>\n",
       "      <td>0</td>\n",
       "    </tr>\n",
       "  </tbody>\n",
       "</table>\n",
       "</div>"
      ],
      "text/plain": [
       "    b2b  promotion_ids\n",
       "0     0              0\n",
       "1     0              0\n",
       "2     1              1\n",
       "3     0              0\n",
       "4     0              0\n",
       "5     0              0\n",
       "6     0              0\n",
       "7     0              0\n",
       "8     0              0\n",
       "9     0              0\n",
       "10    0              0\n",
       "11    0              0\n",
       "12    0              0\n",
       "13    0              0\n",
       "14    0              0\n",
       "15    0              0\n",
       "16    0              0\n",
       "17    0              0\n",
       "18    0              0\n",
       "19    0              0\n",
       "20    0              0\n",
       "21    0              0\n",
       "22    0              0\n",
       "23    0              0\n",
       "24    0              0"
      ]
     },
     "execution_count": 74,
     "metadata": {},
     "output_type": "execute_result"
    }
   ],
   "source": [
    "df[[\"b2b\",\"promotion_ids\"]].head(25)#b2b olanlara promosyon uygulanmış diyebiliriz. yani aynı çıktıyı veriyorlar. Promotionu kaldıracağım."
   ]
  },
  {
   "cell_type": "code",
   "execution_count": 75,
   "id": "f3d638ff",
   "metadata": {
    "scrolled": true
   },
   "outputs": [
    {
     "data": {
      "text/html": [
       "<div>\n",
       "<style scoped>\n",
       "    .dataframe tbody tr th:only-of-type {\n",
       "        vertical-align: middle;\n",
       "    }\n",
       "\n",
       "    .dataframe tbody tr th {\n",
       "        vertical-align: top;\n",
       "    }\n",
       "\n",
       "    .dataframe thead th {\n",
       "        text-align: right;\n",
       "    }\n",
       "</style>\n",
       "<table border=\"1\" class=\"dataframe\">\n",
       "  <thead>\n",
       "    <tr style=\"text-align: right;\">\n",
       "      <th></th>\n",
       "      <th>index</th>\n",
       "      <th>order id</th>\n",
       "      <th>status</th>\n",
       "      <th>fulfilment</th>\n",
       "      <th>style</th>\n",
       "      <th>category</th>\n",
       "      <th>size</th>\n",
       "      <th>asin</th>\n",
       "      <th>courier status</th>\n",
       "      <th>qty</th>\n",
       "      <th>currency</th>\n",
       "      <th>amount</th>\n",
       "      <th>ship_city</th>\n",
       "      <th>ship_state</th>\n",
       "      <th>ship_postal_code</th>\n",
       "      <th>ship_country</th>\n",
       "      <th>b2b</th>\n",
       "      <th>fulfilled_by</th>\n",
       "    </tr>\n",
       "  </thead>\n",
       "  <tbody>\n",
       "    <tr>\n",
       "      <th>0</th>\n",
       "      <td>0</td>\n",
       "      <td>70508</td>\n",
       "      <td>0</td>\n",
       "      <td>1</td>\n",
       "      <td>1342</td>\n",
       "      <td>5</td>\n",
       "      <td>7</td>\n",
       "      <td>5563</td>\n",
       "      <td>2</td>\n",
       "      <td>0</td>\n",
       "      <td>0</td>\n",
       "      <td>647.62</td>\n",
       "      <td>4795</td>\n",
       "      <td>28</td>\n",
       "      <td>2477</td>\n",
       "      <td>0</td>\n",
       "      <td>0</td>\n",
       "      <td>0</td>\n",
       "    </tr>\n",
       "    <tr>\n",
       "      <th>1</th>\n",
       "      <td>1</td>\n",
       "      <td>13615</td>\n",
       "      <td>5</td>\n",
       "      <td>1</td>\n",
       "      <td>847</td>\n",
       "      <td>8</td>\n",
       "      <td>0</td>\n",
       "      <td>5277</td>\n",
       "      <td>1</td>\n",
       "      <td>1</td>\n",
       "      <td>0</td>\n",
       "      <td>406.00</td>\n",
       "      <td>776</td>\n",
       "      <td>23</td>\n",
       "      <td>4857</td>\n",
       "      <td>0</td>\n",
       "      <td>0</td>\n",
       "      <td>0</td>\n",
       "    </tr>\n",
       "    <tr>\n",
       "      <th>2</th>\n",
       "      <td>2</td>\n",
       "      <td>45301</td>\n",
       "      <td>3</td>\n",
       "      <td>0</td>\n",
       "      <td>533</td>\n",
       "      <td>8</td>\n",
       "      <td>8</td>\n",
       "      <td>675</td>\n",
       "      <td>1</td>\n",
       "      <td>1</td>\n",
       "      <td>0</td>\n",
       "      <td>329.00</td>\n",
       "      <td>5353</td>\n",
       "      <td>28</td>\n",
       "      <td>2671</td>\n",
       "      <td>0</td>\n",
       "      <td>1</td>\n",
       "      <td>1</td>\n",
       "    </tr>\n",
       "    <tr>\n",
       "      <th>3</th>\n",
       "      <td>3</td>\n",
       "      <td>43682</td>\n",
       "      <td>0</td>\n",
       "      <td>1</td>\n",
       "      <td>373</td>\n",
       "      <td>7</td>\n",
       "      <td>5</td>\n",
       "      <td>4638</td>\n",
       "      <td>2</td>\n",
       "      <td>0</td>\n",
       "      <td>0</td>\n",
       "      <td>753.33</td>\n",
       "      <td>6140</td>\n",
       "      <td>43</td>\n",
       "      <td>5659</td>\n",
       "      <td>0</td>\n",
       "      <td>0</td>\n",
       "      <td>0</td>\n",
       "    </tr>\n",
       "    <tr>\n",
       "      <th>4</th>\n",
       "      <td>4</td>\n",
       "      <td>90099</td>\n",
       "      <td>3</td>\n",
       "      <td>0</td>\n",
       "      <td>754</td>\n",
       "      <td>6</td>\n",
       "      <td>0</td>\n",
       "      <td>4351</td>\n",
       "      <td>1</td>\n",
       "      <td>1</td>\n",
       "      <td>0</td>\n",
       "      <td>574.00</td>\n",
       "      <td>1466</td>\n",
       "      <td>56</td>\n",
       "      <td>5549</td>\n",
       "      <td>0</td>\n",
       "      <td>0</td>\n",
       "      <td>1</td>\n",
       "    </tr>\n",
       "  </tbody>\n",
       "</table>\n",
       "</div>"
      ],
      "text/plain": [
       "   index  order id  status  fulfilment  style  category  size  asin  \\\n",
       "0      0     70508       0           1   1342         5     7  5563   \n",
       "1      1     13615       5           1    847         8     0  5277   \n",
       "2      2     45301       3           0    533         8     8   675   \n",
       "3      3     43682       0           1    373         7     5  4638   \n",
       "4      4     90099       3           0    754         6     0  4351   \n",
       "\n",
       "   courier status  qty  currency  amount  ship_city  ship_state  \\\n",
       "0               2    0         0  647.62       4795          28   \n",
       "1               1    1         0  406.00        776          23   \n",
       "2               1    1         0  329.00       5353          28   \n",
       "3               2    0         0  753.33       6140          43   \n",
       "4               1    1         0  574.00       1466          56   \n",
       "\n",
       "   ship_postal_code  ship_country  b2b  fulfilled_by  \n",
       "0              2477             0    0             0  \n",
       "1              4857             0    0             0  \n",
       "2              2671             0    1             1  \n",
       "3              5659             0    0             0  \n",
       "4              5549             0    0             1  "
      ]
     },
     "execution_count": 75,
     "metadata": {},
     "output_type": "execute_result"
    }
   ],
   "source": [
    "df.drop('sales channel', axis=1, inplace=True)\n",
    "df.drop('promotion_ids', axis=1, inplace=True)\n",
    "df.drop('ship_service_level', axis=1, inplace=True)\n",
    "df.drop('sku', axis=1, inplace=True)\n",
    "df.head()"
   ]
  },
  {
   "cell_type": "markdown",
   "id": "5c655cec",
   "metadata": {},
   "source": [
    "## Verimiz Artık Makine Öğrenmesine de Uygun Halde.."
   ]
  },
  {
   "cell_type": "markdown",
   "id": "fd829bb9",
   "metadata": {},
   "source": [
    "### Makine Öğrenmesine sokmadan önce ayıracağımız X ve Y train-test verilerini de MinMax Scaler işlemine tabi tutarak Normalizasyon Yapacağız. Bu sayede sayısal değerlerimiz belli bir aralık içine hapsedilmiş olacak ve istatistiki işlemleri daha rahat ve anlaşılabilir kılacak."
   ]
  },
  {
   "cell_type": "code",
   "execution_count": null,
   "id": "8e012f41",
   "metadata": {},
   "outputs": [],
   "source": [
    "df.to_csv(\"amazon_cleaned_forML.csv\",index=False)"
   ]
  }
 ],
 "metadata": {
  "kernelspec": {
   "display_name": "Python 3 (ipykernel)",
   "language": "python",
   "name": "python3"
  },
  "language_info": {
   "codemirror_mode": {
    "name": "ipython",
    "version": 3
   },
   "file_extension": ".py",
   "mimetype": "text/x-python",
   "name": "python",
   "nbconvert_exporter": "python",
   "pygments_lexer": "ipython3",
   "version": "3.11.4"
  }
 },
 "nbformat": 4,
 "nbformat_minor": 5
}
